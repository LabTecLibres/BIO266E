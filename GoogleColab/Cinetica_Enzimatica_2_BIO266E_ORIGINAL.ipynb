{
  "nbformat": 4,
  "nbformat_minor": 0,
  "metadata": {
    "orig_nbformat": 2,
    "kernelspec": {
      "name": "python3",
      "display_name": "Python 3"
    },
    "colab": {
      "name": "Cinetica_Enzimatica_2_AA.ipynb",
      "provenance": [],
      "collapsed_sections": []
    }
  },
  "cells": [
    {
      "cell_type": "markdown",
      "metadata": {
        "id": "OafbyfxrsOS5"
      },
      "source": [
        "# **Cinética Enzimática II**"
      ]
    },
    {
      "cell_type": "markdown",
      "metadata": {
        "id": "rWIwXqwg_CFb"
      },
      "source": [
        "## Las celdas inferiores pueden ejecutarse con normalidad para que funcione correctamente el cuadernillo (la sección de conversión a PDF fue localizada al final del cuadernillo)"
      ]
    },
    {
      "cell_type": "code",
      "metadata": {
        "id": "sO3pMUkMSfzI"
      },
      "source": [
        "%%capture out\n",
        "# Instala extensiones para widgets interactivos\n",
        "!pip install jupyter_contrib_nbextensions\n",
        "!jupyter contrib nbextension install\n",
        "!jupyter nbextension enable --py widgetsnbextension"
      ],
      "execution_count": null,
      "outputs": []
    },
    {
      "cell_type": "code",
      "metadata": {
        "id": "x6iHUpo1WBCi"
      },
      "source": [
        "# Modulos necesarios para ejecutar el código\n",
        "\n",
        "import os                             # Modulo para operaciones a nivel de Sistema Operativo\n",
        "import sys                            # Operaciones a nivel de sistema (para añadir rutas)\n",
        "import math                           # Operaciones matemáticas \n",
        "import numpy as np                    # Creación y manejo de arreglos, además de operaciones con estos\n",
        "import pandas as pd                   # Manejo y operaciones con bases de datos grandes\n",
        "import matplotlib                     # Creación de gráficos\n",
        "import matplotlib.pyplot as plt       # Módulo específico de gráficos\n",
        "import warnings                       # Utilizado para silenciar ciertas advertencias\n",
        "import csv                            # Importar, exportar, leer y escribir archivos .csv\n",
        "import scipy.stats                    # Módulo científico estadístico\n",
        "import nbconvert                      # Para convertir cuadernillo a PDF\n",
        "import ipywidgets as widgets          # Utilizado para crear outputs interactivos\n",
        "import IPython                        # Utilizado para el manejo del output\n",
        "from IPython.display import HTML      # Renderiza HTML en el output\n",
        "\n",
        "# Disminuye la verbosidad de matplotlib al crear gráficos\n",
        "from matplotlib.axes._axes import _log as matplotlib_axes_logger\n",
        "matplotlib_axes_logger.setLevel('ERROR')\n",
        "\n",
        "# Utilizado para dar distintos estilos a matplotlib\n",
        "# y que los gráficos se muestren en línea con el código\n",
        "plt.style.use('ggplot')\n",
        "%matplotlib inline"
      ],
      "execution_count": null,
      "outputs": []
    },
    {
      "cell_type": "code",
      "metadata": {
        "id": "DLJ36N_wS_J3"
      },
      "source": [
        "# Para permitir el acceso a archivos de google drive\n",
        "from google.colab import drive\n",
        "drive.mount('/content/drive')\n",
        "# Imprime el directorio en el que se encuentra\n",
        "os.getcwd()"
      ],
      "execution_count": null,
      "outputs": []
    },
    {
      "cell_type": "code",
      "metadata": {
        "id": "owQsfN7CxC9Y"
      },
      "source": [
        "# Se cambia de directorio al de drives compartidos\n",
        "%cd '/content/drive/Shared drives'"
      ],
      "execution_count": null,
      "outputs": []
    },
    {
      "cell_type": "code",
      "metadata": {
        "id": "KUXbyZkvxOkA"
      },
      "source": [
        "# Se lista el contenido del directorio\n",
        "!ls\n",
        "# Recordar que se debe seleccionar la carpeta suya!"
      ],
      "execution_count": null,
      "outputs": []
    },
    {
      "cell_type": "code",
      "metadata": {
        "id": "jUltiyRMWxNg"
      },
      "source": [
        "# Esta celda añade la ruta especificada a las rutas de busqueda del sistema,\n",
        "# esto permite que se puedan importar módulos externos a python\n",
        "sys.path.append('/content/drive/Shared\\ drives/Cinética - Rodriguez Prieto Jose Ignacio')\n",
        "\n",
        "# Esta celda no va a retornar nada"
      ],
      "execution_count": null,
      "outputs": []
    },
    {
      "cell_type": "code",
      "metadata": {
        "id": "yLmrZ1lkXEaX"
      },
      "source": [
        "# Aquí cambiamos de directorio (con el cual trabajaremos)\n",
        "%cd \"/content/drive/Shared drives/Cinética - Rodriguez Prieto Jose Ignacio\"\n",
        "#%cd \"/content/drive/Shared drives/PEGUE AQUI EL NOMBRE DE SU CARPETA\""
      ],
      "execution_count": null,
      "outputs": []
    },
    {
      "cell_type": "code",
      "metadata": {
        "id": "mzz1ar6wZBQS"
      },
      "source": [
        "# Finalmente acá se importa un módulo diseñado para este curso\n",
        "import cinetica_enzimatica_estudiantes_bio266 as ce"
      ],
      "execution_count": null,
      "outputs": []
    },
    {
      "cell_type": "markdown",
      "metadata": {
        "id": "RvUvJ8jaSfzO"
      },
      "source": [
        "# **Obtención de la curva de saturación para la β-galactosidasa**\n",
        "\n",
        "**Diseño Experimental**:\n",
        "\n",
        "Se determinará la velocidad inicial de la enzima (μM/min) a concentraciones de sustrato crecientes (en μM). Esto permite obtener los parámetros cinéticos de la enzima (Km y Vmáx). \n",
        "Escoger una dilución de enzima apropiada según el resultado del práctico anterior. Preparar 9 diluciones de sustrato oNPGal 3 mg/ml, además del blanco sin sustrato. Incubar por el tiempo determinado en el práctico anterior a 37ºC. Detener la reacción con 0,5 ml de Na2CO3 1M pH 10. Se determina la concentración de producto a una longitud de onda de 420 nm.\n",
        "\n",
        "Incubar la mezcla a 37°C y detener la reacción al tiempo determinado con 500 μl de Na2CO3 1 M pH 10.\n",
        "Grafique los valores de velocidad inicial vs concentración de sustrato (gráfico de Michaelis Menten) y los valores recíprocos 1/S (μM) vs 1/Velocidad (μM de producto/min) (gráfico de dobles recíprocos o Lineweaver y Burk).\n"
      ]
    },
    {
      "cell_type": "code",
      "metadata": {
        "id": "SlE7Oks4Sfza"
      },
      "source": [
        "# Curva de Saturación (Gráfico de Michaelis Menten)\n",
        "\n",
        "# Primero debemos abrir el archivo, para lo cual se cargan los datos\n",
        "# utlizando las rutas de archivos (si se conocen los nombres), o\n",
        "# la barra izquierda de Google Colab, que permite navegar el Drive\n",
        "# hasta encontrar los archivos\n",
        "ruta_de_archivo = \"micment_data_problem_data.csv\"\n",
        "\n",
        "# Esta línea lee el archivo utilizando Pandas,\n",
        "# dando como resultado un DataFrame\n",
        "datos_curvasat = pd.read_csv(ruta_de_archivo)\n",
        "\n",
        "%load_ext google.colab.data_table\n",
        "datos_curvasat\n",
        "#print(datos)"
      ],
      "execution_count": null,
      "outputs": []
    },
    {
      "cell_type": "code",
      "metadata": {
        "id": "hu6d3ICWSfzc"
      },
      "source": [
        "# Se crea la figura y un objeto ax\n",
        "fig, ax = plt.subplots(figsize=(10,5), dpi=150)\n",
        "\n",
        "# Se realiza un bucle para graficar todos los datos en una misma figura\n",
        "# Los objetos DataFrame que crea Pandas al importar un objeto se integran\n",
        "# facilmente con matplotlib, por lo que se facilita la creación de gráficos\n",
        "datos_curvasat.plot(\n",
        "    datos_curvasat.columns[0], \n",
        "    datos_curvasat.columns[1], \n",
        "    kind='scatter',\n",
        "    color=\"b\",\n",
        "    alpha=0.9,\n",
        "    s=2, \n",
        "    ax=ax,\n",
        "    label=datos_curvasat.columns[1])\n",
        "\n",
        "# Título y nombres de ejes (deben modificarse de acuerdo a lo graficado)\n",
        "plt.title(\"Título del Gráfico\")     # Modificar de acuerdo a lo graficado\n",
        "plt.ylabel(\"Nombre de eje Y\")       # Modificar de acuerdo a lo graficado\n",
        "plt.xlabel(\"Nombre de eje X\")       # Modificar de acuerdo a lo graficado\n",
        "\n",
        "# Opciones para ajustar la distribución de objetos en el gráfico\n",
        "# No modificar a menos que desee experimentar!\n",
        "plt.legend(bbox_to_anchor=(1.05, 1), loc=2, borderaxespad=0.)\n",
        "plt.tight_layout()"
      ],
      "execution_count": null,
      "outputs": []
    },
    {
      "cell_type": "markdown",
      "metadata": {
        "id": "MxuFOT3HIsuN"
      },
      "source": [
        "**Recuerde que para este ajuste en particular debe ingresar la $V_{lim}$ ($V_{max}$ ) en $\\mu$M/seg (para esto, divida el límite inferior y superior para $V_{max}$  por 60)**"
      ]
    },
    {
      "cell_type": "code",
      "metadata": {
        "tags": [],
        "id": "qz3K_WRFSfzf"
      },
      "source": [
        "# Ajustar curvas\n",
        "\n",
        "# Datos deben ser transformados a arreglos numpy para ser ajustados\n",
        "# IMPORTANTE: Para cambiar de columna se debe cambiar el índice de datos_y\n",
        "datos_x_curva_sat = datos_curvasat[datos_curvasat.columns[0]].to_numpy()\n",
        "datos_y_curva_sat = datos_curvasat[datos_curvasat.columns[1]].to_numpy()\n",
        "\n",
        "# Se ajustan los datos experimentales a los predichos por el modelo\n",
        "# para mayor informacion acerca del modelo utilizado refierase a las clases de cinética enzimática\n",
        "resultados_ajuste_curva_sat = ce.ajustar_modelo(ce.fit_micment_dil, datos_x_curva_sat, datos_y_curva_sat)\n",
        "\n",
        "# resultados_ajuste es un diccionario que tiene dos llaves:\n",
        "# \"prediccionesModelo\": la cual corresponde a un arreglo de datos generados por el modelo\n",
        "# \"difDatosModelo\": la cual corresponde a un arreglo de datos y se utilizará para graficar los residuales"
      ],
      "execution_count": null,
      "outputs": []
    },
    {
      "cell_type": "code",
      "metadata": {
        "id": "qzfbHzu_Sfzi"
      },
      "source": [
        "# Veamos qué tan bien se ajusta el modelo a los datos experimentales\n",
        "fig, ax = plt.subplots(figsize=(10,5), dpi=150)\n",
        "\n",
        "# Primero se graficarán los datos experimentales\n",
        "datos_curvasat.plot(\n",
        "        datos_curvasat.columns[0], \n",
        "        datos_curvasat.columns[1], \n",
        "        kind='scatter',\n",
        "        color=\"r\",\n",
        "        alpha=0.4,\n",
        "        s=4, \n",
        "        ax=ax,\n",
        "        label=datos_curvasat.columns[1])\n",
        "\n",
        "# Luego se graficarán los datos obtenidos mediante el modelo\n",
        "ax.plot(\n",
        "    datos_x_curva_sat, \n",
        "    resultados_ajuste_curva_sat[\"prediccionesModelo\"], \n",
        "    color=\"b\", \n",
        "    alpha=0.8,\n",
        "    lw=2.0, \n",
        "    ls=\"--\", \n",
        "    label=\"Ajuste\")\n",
        "\n",
        "plt.legend()\n",
        "plt.title(\"Título del Gráfico\")     # Modificar de acuerdo a lo graficado\n",
        "plt.ylabel(\"Nombre de eje Y\")       # Modificar de acuerdo a lo graficado\n",
        "plt.xlabel(\"Nombre de eje X\")       # Modificar de acuerdo a lo graficado"
      ],
      "execution_count": null,
      "outputs": []
    },
    {
      "cell_type": "markdown",
      "metadata": {
        "id": "qjPpHoUiQWiK"
      },
      "source": [
        "## **Gráficos y Ajuste a Lineweaver-Burk**"
      ]
    },
    {
      "cell_type": "markdown",
      "metadata": {
        "id": "dCDP3z6gWMy1"
      },
      "source": [
        "Para realizar los gráficos y ajustes a Lineweaver-Burk los datos experimentales se invierten ($1/datos$)"
      ]
    },
    {
      "cell_type": "code",
      "metadata": {
        "id": "0zwWpV1fNAcb"
      },
      "source": [
        "# Se crea la figura y un objeto ax\n",
        "fig, ax = plt.subplots(figsize=(10,5), dpi=150)\n",
        "\n",
        "# Se grafican los datos\n",
        "plt.scatter(\n",
        "    np.divide(1, datos_curvasat[datos_curvasat.columns[0]][100:]), \n",
        "    np.divide(1, datos_curvasat[datos_curvasat.columns[1]][100:]),\n",
        "    color=\"b\",\n",
        "    alpha=0.8,\n",
        "    s=4,\n",
        "    label=datos_curvasat.columns[1])\n",
        "\n",
        "plt.title(\"Título del Gráfico\")     # Modificar de acuerdo a lo graficado\n",
        "plt.ylabel(\"Nombre de eje Y\")       # Modificar de acuerdo a lo graficado\n",
        "plt.xlabel(\"Nombre de eje X\")       # Modificar de acuerdo a lo graficado\n",
        "\n",
        "# Opciones para ajustar la distribución de objetos en el gráfico\n",
        "# No modificar a menos que desee experimentar!\n",
        "plt.legend(bbox_to_anchor=(1.05, 1), loc=2, borderaxespad=0.)\n",
        "plt.tight_layout()"
      ],
      "execution_count": null,
      "outputs": []
    },
    {
      "cell_type": "markdown",
      "metadata": {
        "id": "QLcpsQTASy3Z"
      },
      "source": [
        "### **Importante**: Recuerde que debido a que la pendiente de esta recta corresponde a $\\frac{K_m}{V_{max}}$ y que $V_{max}$ debe ser ajustada utilizando unidades de $\\frac{\\mu M}{s}$, el valor de la pendiente incrementa sustancialmente con valores pequeños de $V_{max}$. A modo de ejemplo, consideremos que $V_{max} \\approx 0.1 \\frac{\\mu M}{s}$ y $K_m \\approx 200 \\mu M$. Al calcular $\\frac{K_m}{V_{max}}$ se obtiene un valor de **2000**. Considerando esto, recuerde probar con distintos límites inferiores y superiores este ajuste."
      ]
    },
    {
      "cell_type": "code",
      "metadata": {
        "id": "ATcHxDayMxzw"
      },
      "source": [
        "# Ajustar curvas\n",
        "\n",
        "# Datos deben ser transformados a arreglos numpy para ser ajustados\n",
        "datos_x_lwburk = np.divide(1, datos_x_curva_sat[100:])\n",
        "datos_y_lwburk = np.divide(1, datos_y_curva_sat[100:])\n",
        "\n",
        "# Se ajustan los datos experimentales a los predichos por el modelo\n",
        "# para mayor informacion acerca del modelo utilizado refierase a las clases de cinética enzimática\n",
        "resultados_ajuste_lwburk = ce.ajustar_modelo(ce.fit_lwburk, datos_x_lwburk, datos_y_lwburk)\n",
        "\n",
        "# resultados_ajuste es un diccionario que tiene dos llaves:\n",
        "# \"prediccionesModelo\": la cual corresponde a un arreglo de datos generados por el modelo\n",
        "# \"difDatosModelo\": la cual corresponde a un arreglo de datos y se utilizará para graficar los residuales"
      ],
      "execution_count": null,
      "outputs": []
    },
    {
      "cell_type": "code",
      "metadata": {
        "id": "FHGAgCJ5OCEL"
      },
      "source": [
        "# Se crea la figura y un objeto ax\n",
        "fig, ax = plt.subplots(figsize=(10,5), dpi=150)\n",
        "\n",
        "# Se grafican los datos transformados a Lineweaver-Burk\n",
        "plt.scatter(\n",
        "    datos_x_lwburk, \n",
        "    datos_y_lwburk,\n",
        "    color=\"r\",\n",
        "    alpha=0.8,\n",
        "    s=4,\n",
        "    label=\"Datos experimentales\")\n",
        "\n",
        "# Se grafica el ajuste obtenido\n",
        "ax.plot(\n",
        "    datos_x_lwburk, \n",
        "    resultados_ajuste_lwburk[\"prediccionesModelo\"], \n",
        "    color=\"b\", \n",
        "    alpha=0.8,\n",
        "    lw=2.0, \n",
        "    ls=\"--\", \n",
        "    label=\"Ajuste a Lineweaver-Burk\")\n",
        "\n",
        "plt.title(\"Título del Gráfico\")     # Modificar de acuerdo a lo graficado\n",
        "plt.ylabel(\"Nombre de eje Y\")       # Modificar de acuerdo a lo graficado\n",
        "plt.xlabel(\"Nombre de eje X\")       # Modificar de acuerdo a lo graficado\n",
        "\n",
        "# Opciones para ajustar la distribución de objetos en el gráfico\n",
        "# No modificar a menos que desee experimentar!\n",
        "plt.legend(bbox_to_anchor=(1.05, 1), loc=2, borderaxespad=0.)\n",
        "plt.tight_layout()"
      ],
      "execution_count": null,
      "outputs": []
    },
    {
      "cell_type": "code",
      "metadata": {
        "id": "R4wlQ6rDOCOr"
      },
      "source": [
        "# Esta funcion permite calcular el intercepto del eje X\n",
        "ce.find_x_intercept()"
      ],
      "execution_count": null,
      "outputs": []
    },
    {
      "cell_type": "markdown",
      "metadata": {
        "id": "jZpYYuFBSfzk"
      },
      "source": [
        "## **Preguntas a desarrollar**"
      ]
    },
    {
      "cell_type": "markdown",
      "metadata": {
        "id": "0SwKkBDdzSF2"
      },
      "source": [
        "Complete la siguiente tabla con los valores de $V_{max}$ y $K_m$ obtenidos en los ajustes previos."
      ]
    },
    {
      "cell_type": "markdown",
      "metadata": {
        "id": "XEqeuhpfy29E"
      },
      "source": [
        "Haz doble clic (o ingresa) para editar\n",
        "\n",
        "|  | $V_{max}$ | $K_m$ |\n",
        "|:-:|:-:|:-:|\n",
        "| **Michaelis-<br>Menten** | Inserte su valor | Inserte su valor |\n",
        "| **Lineweaver-<br>Burk** | Inserte su valor | Inserte su valor |"
      ]
    },
    {
      "cell_type": "markdown",
      "metadata": {
        "id": "H2mS9ORMSfzl"
      },
      "source": [
        "**Compare los parametros ajustados a la curva de Michaelis-Menten y a la recta de Lineweaver-Burk ¿En qué casos utilizaría un método sobre otro? ¿Existen otros gráficos que se utilicen para determinar los parámetros cinéticos?**"
      ]
    },
    {
      "cell_type": "markdown",
      "metadata": {
        "id": "cYKtdIvGEwWN"
      },
      "source": [
        ""
      ]
    },
    {
      "cell_type": "markdown",
      "metadata": {
        "id": "yZIqXVsdSfzm"
      },
      "source": [
        "# **Efecto de inhibidores sobre la actividad β-galactosidasa**\n",
        "\n",
        "**Diseño Experimental**:\n",
        "\n",
        "Se estudiará el efecto inhibitorio de los compuestos galactosa y glucosa en forma independiente. Para esto se determina la velocidad inicial en función de las mismas concentraciones crecientes del sustrato oNPGal anteriores, en presencia de dos concentraciones de galactosa en un caso, y en presencia de dos concentraciones de glucosa en el otro caso.\n",
        "\n",
        "Se grafica velocidad (μM de producto/min) en función de la concentración de sustrato (μM) en presencia de cada uno de los inhibidores. Por lo tanto, se realizan cuatro curvas con concentraciones crecientes de sustrato. Luego se grafican las curvas de dobles recíprocos 1/S (μM) v/s 1/Velocidad (μM de producto/min) sin inhibidor y con cada inhibidor en dos concentraciones cada uno.\n",
        "\n",
        "A partir de estos gráficos se determina como varían Km y Vmáx, y se define así el tipo de inhibición que ejercen galactosa y glucosa.\n",
        "\n"
      ]
    },
    {
      "cell_type": "code",
      "metadata": {
        "id": "YsWBG8A8qTSd"
      },
      "source": [
        "# Gráfico interactivo inhibidor competitivo (Curva de Michaelis-Menten)\n",
        "ce.interactive_comp_inhibitor_graph1(np.linspace(0, 10000, 10000//10), ce.fit_micment_comp_inhibitor)"
      ],
      "execution_count": null,
      "outputs": []
    },
    {
      "cell_type": "code",
      "metadata": {
        "id": "SVLsIcMACls5"
      },
      "source": [
        "# Gráfico interactivo inhibidor competitivo (Lineweaver-Burk)\n",
        "ce.interactive_comp_inhibitor_graph2(np.linspace(1000, 10000, 10000//10), ce.fit_micment_comp_inhibitor)"
      ],
      "execution_count": null,
      "outputs": []
    },
    {
      "cell_type": "markdown",
      "metadata": {
        "id": "rhysWEPrKW5U"
      },
      "source": [
        "## **Gráficos y Ajustes a curva de Michaelis-Menten**"
      ]
    },
    {
      "cell_type": "code",
      "metadata": {
        "id": "VroAqkZfSfzm"
      },
      "source": [
        "# En primer lugar se debe leer el archivo que contiene los datos\n",
        "ruta_de_archivo = \"comp_inhibitor_data_problem_data.csv\"\n",
        "datos_inhibcomp = pd.read_csv(ruta_de_archivo)\n",
        "\n",
        "datos_inhibcomp\n",
        "#print(datos)"
      ],
      "execution_count": null,
      "outputs": []
    },
    {
      "cell_type": "code",
      "metadata": {
        "id": "ajg_83ZnSfzq"
      },
      "source": [
        "colores = plt.cm.inferno_r(np.linspace(0.25, 0.75, len(list(datos_inhibcomp.columns))-1))\n",
        "\n",
        "# Se crea la figura y un objeto ax\n",
        "fig, ax = plt.subplots(figsize=(10,5), dpi=150)\n",
        "\n",
        "# Se realiza un bucle para graficar todos los datos en una misma figura\n",
        "for i in range(1, len(list(datos_inhibcomp.columns))):\n",
        "    datos_inhibcomp.plot(\n",
        "        datos_inhibcomp.columns[0], \n",
        "        datos_inhibcomp.columns[i], \n",
        "        kind='scatter',\n",
        "        color=colores[i-1],\n",
        "        alpha=0.8,\n",
        "        s=4, \n",
        "        ax=ax,\n",
        "        label=datos_inhibcomp.columns[i])\n",
        "\n",
        "# Además, para tener una mayor claridad acerca del efecto que tiene este tipo de\n",
        "# inhibidores, se grafica la curva de Michaelis-Menten sin inhibidor   \n",
        "ax.plot(\n",
        "    datos_x_curva_sat, \n",
        "    resultados_ajuste_curva_sat[\"prediccionesModelo\"], \n",
        "    color=\"g\", \n",
        "    alpha=0.8,\n",
        "    lw=2.0, \n",
        "    ls=\"--\", \n",
        "    label=\"Ajuste a MM sin inhibidores\")\n",
        "\n",
        "plt.title(\"Título del Gráfico\")     # Modificar de acuerdo a lo graficado\n",
        "plt.ylabel(\"Nombre de eje Y\")       # Modificar de acuerdo a lo graficado\n",
        "plt.xlabel(\"Nombre de eje X\")       # Modificar de acuerdo a lo graficado\n",
        "\n",
        "# Opciones para ajustar la distribución de objetos en el gráfico\n",
        "# No modificar a menos que desee experimentar!\n",
        "plt.legend(bbox_to_anchor=(1.05, 1), loc=2, borderaxespad=0.)\n",
        "plt.tight_layout()"
      ],
      "execution_count": null,
      "outputs": []
    },
    {
      "cell_type": "code",
      "metadata": {
        "tags": [],
        "id": "E17nOghESfzt"
      },
      "source": [
        "# Ajustar curvas\n",
        "\n",
        "# Datos deben ser transformados a arreglos numpy para ser ajustados\n",
        "# IMPORTANTE: Para cambiar de columna se debe cambiar el índice de la columna datos_y\n",
        "# (donde dice datos_inhibcomp.columns[indice])\n",
        "datos_x_inhibcomp = datos_inhibcomp[datos_inhibcomp.columns[0]].to_numpy()\n",
        "datos_y_inhibcomp = datos_inhibcomp[datos_inhibcomp.columns[2]].to_numpy()\n",
        "\n",
        "# Se ajustan los datos experimentales a los predichos por el modelo\n",
        "resultados_ajuste = ce.ajustar_modelo(ce.fit_micment_comp_inhibitor, datos_x_inhibcomp, datos_y_inhibcomp)\n",
        "\n",
        "# resultados_ajuste es un diccionario que tiene dos llaves:\n",
        "# \"prediccionesModelo\": la cual corresponde a un arreglo de datos generados por el modelo\n",
        "# \"difDatosModelo\": la cual corresponde a un arreglo de datos y se utilizará para graficar los residuales"
      ],
      "execution_count": null,
      "outputs": []
    },
    {
      "cell_type": "code",
      "metadata": {
        "id": "9_4Z_O9RSfzv"
      },
      "source": [
        "# Veamos qué tan bien se ajusta el modelo a los datos experimentales\n",
        "fig, ax = plt.subplots(figsize=(10,5), dpi=150)\n",
        "\n",
        "# Primero se graficarán los datos experimentales\n",
        "datos_inhibcomp.plot(\n",
        "        datos_inhibcomp.columns[0], \n",
        "        datos_inhibcomp.columns[2], \n",
        "        kind='scatter',\n",
        "        color=\"r\",\n",
        "        alpha=0.4,\n",
        "        s=4, \n",
        "        ax=ax,\n",
        "        label=datos_inhibcomp.columns[2])\n",
        "\n",
        "# Luego se graficarán los datos obtenidos mediante el modelo\n",
        "ax.plot(\n",
        "    datos_x_inhibcomp, \n",
        "    resultados_ajuste[\"prediccionesModelo\"], \n",
        "    color=\"b\", \n",
        "    alpha=1.0,\n",
        "    lw=2.0, \n",
        "    ls=\"--\", \n",
        "    label=\"Ajuste\")\n",
        "\n",
        "# Se grafica ademas el ajuste a la curva de MM sin inhibidores\n",
        "ax.plot(\n",
        "    datos_x_curva_sat, \n",
        "    resultados_ajuste_curva_sat[\"prediccionesModelo\"], \n",
        "    color=\"g\", \n",
        "    alpha=0.8,\n",
        "    lw=2.0, \n",
        "    ls=\"--\", \n",
        "    label=\"Ajuste a MM sin inhibidores\")\n",
        "\n",
        "plt.legend()\n",
        "plt.title(\"Título del Gráfico\")     # Modificar de acuerdo a lo graficado\n",
        "plt.ylabel(\"Nombre de eje Y\")       # Modificar de acuerdo a lo graficado\n",
        "plt.xlabel(\"Nombre de eje X\")       # Modificar de acuerdo a lo graficado"
      ],
      "execution_count": null,
      "outputs": []
    },
    {
      "cell_type": "markdown",
      "metadata": {
        "id": "iVBtd48QKLto"
      },
      "source": [
        "## **Gráficos y ajustes a Lineweaver-Burk**"
      ]
    },
    {
      "cell_type": "code",
      "metadata": {
        "id": "2PKRyDv8KK0x"
      },
      "source": [
        "# Se crea la figura y un objeto ax\n",
        "fig, ax = plt.subplots(figsize=(10,5), dpi=150)\n",
        "\n",
        "# Para graficar los inversos, se transforman los datos que ya se cargaron al cuadernillo\n",
        "# Para esto se utiliza la funcion np.divide()\n",
        "# IMPORTANTE: Recuerde modificar el índice de su columna (a la que usted elija)\n",
        "plt.scatter(\n",
        "    np.divide(1, datos_inhibcomp[datos_inhibcomp.columns[0]][300:]), \n",
        "    np.divide(1, datos_inhibcomp[datos_inhibcomp.columns[2]][300:]),\n",
        "    color=\"b\",\n",
        "    alpha=0.8,\n",
        "    s=4,\n",
        "    label=datos_inhibcomp.columns[2])\n",
        "\n",
        "plt.title(\"Título del Gráfico\")     # Modificar de acuerdo a lo graficado\n",
        "plt.ylabel(\"Nombre de eje Y\")       # Modificar de acuerdo a lo graficado\n",
        "plt.xlabel(\"Nombre de eje X\")       # Modificar de acuerdo a lo graficado\n",
        "\n",
        "# Opciones para ajustar la distribución de objetos en el gráfico\n",
        "# No modificar a menos que desee experimentar!\n",
        "plt.legend(bbox_to_anchor=(1.05, 1), loc=2, borderaxespad=0.)\n",
        "plt.tight_layout()"
      ],
      "execution_count": null,
      "outputs": []
    },
    {
      "cell_type": "code",
      "metadata": {
        "id": "-LUnh2MwLbWI"
      },
      "source": [
        "# Ajustar curvas\n",
        "\n",
        "# Datos deben ser transformados a arreglos numpy para ser ajustados\n",
        "# IMPORTANTE: Para cambiar de columna se debe cambiar el índice de la columna datos_y\n",
        "# (donde dice datos_inhibcomp.columns[indice])\n",
        "datos_x_lwburk = np.divide(1, datos_inhibcomp[datos_inhibcomp.columns[0]][300:])\n",
        "datos_y_lwburk = np.divide(1, datos_inhibcomp[datos_inhibcomp.columns[2]][300:])\n",
        "\n",
        "# Se ajustan los datos experimentales a los predichos por el modelo\n",
        "# para mayor informacion acerca del modelo utilizado refierase a las clases de cinética enzimática\n",
        "resultados_ajuste_lwburk = ce.ajustar_modelo(ce.fit_lwburk, datos_x_lwburk, datos_y_lwburk)\n",
        "\n",
        "# resultados_ajuste es un diccionario que tiene dos llaves:\n",
        "# \"prediccionesModelo\": la cual corresponde a un arreglo de datos generados por el modelo\n",
        "# \"difDatosModelo\": la cual corresponde a un arreglo de datos y se utilizará para graficar los residuales"
      ],
      "execution_count": null,
      "outputs": []
    },
    {
      "cell_type": "code",
      "metadata": {
        "id": "Fniy19A2RJSG"
      },
      "source": [
        "# Se crea la figura y un objeto ax\n",
        "fig, ax = plt.subplots(figsize=(10,5), dpi=150)\n",
        "\n",
        "# Se grafican los datos transformados a Lineweaver-Burk \n",
        "plt.scatter(\n",
        "    datos_x_lwburk, \n",
        "    datos_y_lwburk,\n",
        "    color=\"r\",\n",
        "    alpha=0.8,\n",
        "    s=4,\n",
        "    label=\"Datos experimentales\")\n",
        "\n",
        "# Y además se grafica la recta obtenida luego de ajustar los parámetros\n",
        "ax.plot(\n",
        "    datos_x_lwburk, \n",
        "    resultados_ajuste_lwburk[\"prediccionesModelo\"], \n",
        "    color=\"b\", \n",
        "    alpha=0.8,\n",
        "    lw=2.0, \n",
        "    ls=\"--\", \n",
        "    label=\"Ajuste a Lineweaver-Burk\")\n",
        "\n",
        "plt.title(\"Título del Gráfico\")     # Modificar de acuerdo a lo graficado\n",
        "plt.ylabel(\"Nombre de eje Y\")       # Modificar de acuerdo a lo graficado\n",
        "plt.xlabel(\"Nombre de eje X\")       # Modificar de acuerdo a lo graficado\n",
        "\n",
        "# Opciones para ajustar la distribución de objetos en el gráfico\n",
        "# No modificar a menos que desee experimentar!\n",
        "plt.legend(bbox_to_anchor=(1.05, 1), loc=2, borderaxespad=0.)\n",
        "plt.tight_layout()"
      ],
      "execution_count": null,
      "outputs": []
    },
    {
      "cell_type": "code",
      "metadata": {
        "id": "y6hIysGvRJmK"
      },
      "source": [
        "# Esta funcion permite calcular el intercepto del eje X\n",
        "ce.find_x_intercept()"
      ],
      "execution_count": null,
      "outputs": []
    },
    {
      "cell_type": "code",
      "metadata": {
        "id": "qRXAaSfbRI0b"
      },
      "source": [
        ""
      ],
      "execution_count": null,
      "outputs": []
    },
    {
      "cell_type": "markdown",
      "metadata": {
        "id": "sbh13XJCSfzy"
      },
      "source": [
        "## **Preguntas a desarrollar**"
      ]
    },
    {
      "cell_type": "markdown",
      "metadata": {
        "id": "v_eFbydPgXOJ"
      },
      "source": [
        "Complete la siguiente tabla con los valores de $V_{max}$ y $K_m$ que obtuvo en los ajustes realizados de esta sección. Recuerde que:\n",
        "\n",
        "- Los parámetros ajustados sin inhibidor se obtuvieron en la primera sección (Curva de Saturación)\n",
        "\n",
        "- Para obtener los parámetros a partir de Lineweaver-Burk deberá realizar cálculos (ya que no se obtienen directamente desde el ajuste a la recta)"
      ]
    },
    {
      "cell_type": "markdown",
      "metadata": {
        "id": "QfXyLmgziEwo"
      },
      "source": [
        "Haz doble clic (o ingresa) para editar\n",
        "\n",
        "|  | $V_{max}$ | $K_m$ |\n",
        "|:-:|:-:|:-:|\n",
        "| **Michaelis-<br>Menten** | -------- | --------- |\n",
        "| Sin Inhibidor | Su valor acá | Su valor acá |\n",
        "| Con Inhibidor | Su valor acá | Su valor acá |\n",
        "| **Lineweaver-<br>Burk** | -------- | --------- |\n",
        "| Sin Inhibidor | Su valor acá | Su valor acá |\n",
        "| Con Inhibidor | Su valor acá | Su valor acá |"
      ]
    },
    {
      "cell_type": "markdown",
      "metadata": {
        "id": "74cnLyLmSfzz"
      },
      "source": [
        "**En base a la tabla superior ¿Qué parámetro(s) se ve(n) afectado(s)? ¿Cómo actúan los inhibidores competitivos a nivel biológico?** (Hint: Considere efectos en la Enzima y/o complejo Enzima/Sustrato)"
      ]
    },
    {
      "cell_type": "markdown",
      "metadata": {
        "id": "oD8QveWgSfzz"
      },
      "source": [
        ""
      ]
    },
    {
      "cell_type": "markdown",
      "metadata": {
        "id": "iXLT0t-wSfz0"
      },
      "source": [
        "**¿Qué es la $K_{ic}$? ¿Qué efecto tendría el aumentar o disminuir su valor?**"
      ]
    },
    {
      "cell_type": "markdown",
      "metadata": {
        "id": "_9bQgSoPFxNb"
      },
      "source": [
        ""
      ]
    },
    {
      "cell_type": "markdown",
      "metadata": {
        "id": "L0Oq56CQFxfu"
      },
      "source": [
        "**Al realizar un ensayo enzimático la tasa de reacción observada es *menor* a la esperada. Usted sabe además que su reacción requiere de un determinado compuesto, sin embargo este ha sido descrito como un posible inhibidor competitivo de la enzima. ¿Cómo podría aumentar la tasa de reacción sin eliminar este compuesto?**"
      ]
    },
    {
      "cell_type": "markdown",
      "metadata": {
        "id": "VFI7DEpP6JfK"
      },
      "source": [
        ""
      ]
    },
    {
      "cell_type": "markdown",
      "metadata": {
        "id": "iACk9qULSfz1"
      },
      "source": [
        "# **Efecto de un inhibidor mixto**\n"
      ]
    },
    {
      "cell_type": "code",
      "metadata": {
        "id": "aj6h_Rh7rx_i"
      },
      "source": [
        "# Gráfico Inhibidores No-Competitivos\n",
        "# Recomiendo no cambiar parametros de esta funcion\n",
        "ce.interactive_mixed_inhibitor_graph1(np.linspace(0, 10000, 10000//10), ce.fit_micment_mixed_inhibitor)"
      ],
      "execution_count": null,
      "outputs": []
    },
    {
      "cell_type": "code",
      "metadata": {
        "id": "eg_gPXGLHwDz"
      },
      "source": [
        "# Gráfico Inhibidores No-Competitivos\n",
        "# Recomiendo no cambiar parametros de esta funcion\n",
        "ce.interactive_mixed_inhibitor_graph2(np.linspace(1000, 10000, 10000//10), ce.fit_micment_mixed_inhibitor)"
      ],
      "execution_count": null,
      "outputs": []
    },
    {
      "cell_type": "code",
      "metadata": {
        "id": "oqq0wi33Sfz1"
      },
      "source": [
        "# En primer lugar se debe leer el archivo que contiene los datos\n",
        "ruta_de_archivo = \"incognito.csv\"\n",
        "datos_inhibnocomp = pd.read_csv(ruta_de_archivo)\n",
        "\n",
        "datos_inhibnocomp\n",
        "#print(datos)"
      ],
      "execution_count": null,
      "outputs": []
    },
    {
      "cell_type": "code",
      "metadata": {
        "id": "FoLD0U2lSfz5"
      },
      "source": [
        "colores = plt.cm.viridis_r(np.linspace(0.25, 0.75, len(list(datos_inhibnocomp.columns))-1))\n",
        "\n",
        "# Se crea la figura y un objeto ax (recuerde que el objeto ax será donde se grafiquen las curvas)\n",
        "fig, ax = plt.subplots(figsize=(10,5), dpi=150)\n",
        "\n",
        "# Se realiza un bucle para graficar todos los datos en una misma figura\n",
        "for i in range(1, len(list(datos_inhibnocomp.columns))):\n",
        "    datos_inhibnocomp.plot(\n",
        "        datos_inhibnocomp.columns[0], \n",
        "        datos_inhibnocomp.columns[i], \n",
        "        kind='scatter',\n",
        "        color=colores[i-1],\n",
        "        alpha=0.8,\n",
        "        s=4, \n",
        "        ax=ax,\n",
        "        label=datos_inhibnocomp.columns[i])\n",
        "\n",
        "# Además, para tener una mayor claridad acerca del efecto que tiene este tipo de\n",
        "# inhibidores, se grafica la curva de Michaelis-Menten sin inhibidor   \n",
        "ax.plot(\n",
        "    datos_x_curva_sat, \n",
        "    resultados_ajuste_curva_sat[\"prediccionesModelo\"], \n",
        "    color=\"r\", \n",
        "    alpha=0.8,\n",
        "    lw=2.0, \n",
        "    ls=\"--\", \n",
        "    label=\"Ajuste a MM sin inhibidores\")\n",
        "\n",
        "plt.title(\"Título del Gráfico\")     # Modificar de acuerdo a lo graficado\n",
        "plt.ylabel(\"Nombre de eje Y\")       # Modificar de acuerdo a lo graficado\n",
        "plt.xlabel(\"Nombre de eje X\")       # Modificar de acuerdo a lo graficado\n",
        "\n",
        "# Opciones para ajustar la distribución de objetos en el gráfico\n",
        "# No modificar a menos que desee experimentar!\n",
        "plt.legend(bbox_to_anchor=(1.05, 1), loc=2, borderaxespad=0.)\n",
        "plt.tight_layout()"
      ],
      "execution_count": null,
      "outputs": []
    },
    {
      "cell_type": "code",
      "metadata": {
        "tags": [],
        "id": "M8niRs1kSfz8"
      },
      "source": [
        "# Ajustar curvas\n",
        "\n",
        "# Datos deben ser transformados a arreglos numpy para ser ajustados\n",
        "# IMPORTANTE: Para cambiar de columna se debe cambiar el índice de datos_y\n",
        "# (donde dice datos_inhibcomp.columns[indice])\n",
        "datos_x_inhibnocomp = datos_inhibnocomp[datos_inhibnocomp.columns[0]].to_numpy()\n",
        "datos_y_inhibnocomp = datos_inhibnocomp[datos_inhibnocomp.columns[2]].to_numpy()\n",
        "\n",
        "# Se ajustan los datos experimentales a los predecidos por el modelo\n",
        "resultados_ajuste = ce.ajustar_modelo(ce.fit_micment_mixed_inhibitor, datos_x_inhibnocomp, datos_y_inhibnocomp)\n",
        "\n",
        "# resultados_ajuste es un diccionario que tiene dos llaves:\n",
        "# \"prediccionesModelo\": la cual corresponde a un arreglo de datos generados por el modelo\n",
        "# \"difDatosModelo\": la cual corresponde a un arreglo de datos y se utilizará para graficar los residuales"
      ],
      "execution_count": null,
      "outputs": []
    },
    {
      "cell_type": "code",
      "metadata": {
        "id": "qMeMIbE6Sfz_"
      },
      "source": [
        "# Veamos qué tan bien se ajusta el modelo a los datos experimentales\n",
        "fig, ax = plt.subplots(figsize=(10,5), dpi=150)\n",
        "\n",
        "# Primero se graficarán los datos experimentales\n",
        "# (recuerde que el objeto ax será donde se grafiquen las curvas)\n",
        "datos_inhibnocomp.plot(\n",
        "        datos_inhibnocomp.columns[0], \n",
        "        datos_inhibnocomp.columns[3], \n",
        "        kind='scatter',\n",
        "        color=\"r\",\n",
        "        alpha=0.4,\n",
        "        s=4, \n",
        "        ax=ax,\n",
        "        label=datos_inhibnocomp.columns[3])\n",
        "\n",
        "# Luego se graficarán los datos obtenidos mediante el modelo\n",
        "ax.plot(\n",
        "    datos_x_inhibnocomp, \n",
        "    resultados_ajuste[\"prediccionesModelo\"], \n",
        "    color=\"b\", \n",
        "    alpha=1.0,\n",
        "    lw=2.0, \n",
        "    ls=\"--\", \n",
        "    label=\"Ajuste\")\n",
        "\n",
        "# Se grafica ademas el ajuste a la curva de MM sin inhibidores\n",
        "ax.plot(\n",
        "    datos_x_curva_sat, \n",
        "    resultados_ajuste_curva_sat[\"prediccionesModelo\"], \n",
        "    color=\"g\", \n",
        "    alpha=0.8,\n",
        "    lw=2.0, \n",
        "    ls=\"--\", \n",
        "    label=\"Ajuste a MM sin inhibidores\")\n",
        "\n",
        "plt.legend()\n",
        "plt.title(\"Título del Gráfico\")     # Modificar de acuerdo a lo graficado\n",
        "plt.ylabel(\"Nombre de eje Y\")       # Modificar de acuerdo a lo graficado\n",
        "plt.xlabel(\"Nombre de eje X\")       # Modificar de acuerdo a lo graficado"
      ],
      "execution_count": null,
      "outputs": []
    },
    {
      "cell_type": "markdown",
      "metadata": {
        "id": "UMyeAdO9SZ-q"
      },
      "source": [
        "## **Gráficos y Ajuste a Lineweaver-Burk**"
      ]
    },
    {
      "cell_type": "code",
      "metadata": {
        "id": "IZyN4ImXSOva"
      },
      "source": [
        "# Se crea la figura y un objeto ax\n",
        "fig, ax = plt.subplots(figsize=(10,5), dpi=150)\n",
        "\n",
        "# Se grafican los datos transformados a Lineweaver-Burk\n",
        "# Recuerde que:\n",
        "#     Para graficar Lineweaver-Burk deberá calcular el inverso de su set de datos\n",
        "#     Debe seleccionar la columna correcta a la cual ajustó los datos anteriormente\n",
        "plt.scatter(\n",
        "    np.divide(1, datos_inhibnocomp[datos_inhibnocomp.columns[0]][100:]), \n",
        "    np.divide(1, datos_inhibnocomp[datos_inhibnocomp.columns[3]][100:]),\n",
        "    color=\"b\",\n",
        "    alpha=0.8,\n",
        "    s=4,\n",
        "    label=datos_inhibnocomp.columns[3])\n",
        "\n",
        "plt.title(\"Título del Gráfico\")     # Modificar de acuerdo a lo graficado\n",
        "plt.ylabel(\"Nombre de eje Y\")       # Modificar de acuerdo a lo graficado\n",
        "plt.xlabel(\"Nombre de eje X\")       # Modificar de acuerdo a lo graficado\n",
        "\n",
        "# Opciones para ajustar la distribución de objetos en el gráfico\n",
        "# No modificar a menos que desee experimentar!\n",
        "plt.legend(bbox_to_anchor=(1.05, 1), loc=2, borderaxespad=0.)\n",
        "plt.tight_layout()"
      ],
      "execution_count": null,
      "outputs": []
    },
    {
      "cell_type": "code",
      "metadata": {
        "id": "oV9xvKVZSOiQ"
      },
      "source": [
        "# Ajustar curvas\n",
        "\n",
        "# Datos deben ser transformados a arreglos numpy para ser ajustados\n",
        "# IMPORTANTE: Para cambiar de columna se debe cambiar el índice de datos_y\n",
        "# (donde dice datos_inhibnocomp.columns[indice])\n",
        "datos_x_lwburk = np.divide(1, datos_inhibnocomp[datos_inhibnocomp.columns[0]][100:])\n",
        "datos_y_lwburk = np.divide(1, datos_inhibnocomp[datos_inhibnocomp.columns[3]][100:])\n",
        "\n",
        "# Se ajustan los datos experimentales a los predichos por el modelo\n",
        "# para mayor informacion acerca del modelo utilizado refierase a las clases de cinética enzimática\n",
        "resultados_ajuste_lwburk = ce.ajustar_modelo(ce.fit_lwburk, datos_x_lwburk, datos_y_lwburk)\n",
        "\n",
        "# resultados_ajuste es un diccionario que tiene dos llaves:\n",
        "# \"prediccionesModelo\": la cual corresponde a un arreglo de datos generados por el modelo\n",
        "# \"difDatosModelo\": la cual corresponde a un arreglo de datos y se utilizará para graficar los residuales"
      ],
      "execution_count": null,
      "outputs": []
    },
    {
      "cell_type": "code",
      "metadata": {
        "id": "Ed85tnXrSODl"
      },
      "source": [
        "# Se crea la figura y un objeto ax\n",
        "fig, ax = plt.subplots(figsize=(10,5), dpi=150)\n",
        "\n",
        "# Se grafican los datos transformados a Lineweaver-Burk\n",
        "plt.scatter(\n",
        "    datos_x_lwburk, \n",
        "    datos_y_lwburk,\n",
        "    color=\"r\",\n",
        "    alpha=0.8,\n",
        "    s=4,\n",
        "    label=\"Datos experimentales\")\n",
        "\n",
        "# Se grafica el ajuste lineal hecho a estos datos\n",
        "ax.plot(\n",
        "    datos_x_lwburk, \n",
        "    resultados_ajuste_lwburk[\"prediccionesModelo\"], \n",
        "    color=\"b\", \n",
        "    alpha=0.8,\n",
        "    lw=2.0, \n",
        "    ls=\"--\", \n",
        "    label=\"Ajuste a Lineweaver-Burk\")\n",
        "\n",
        "plt.title(\"Título del Gráfico\")     # Modificar de acuerdo a lo graficado\n",
        "plt.ylabel(\"Nombre de eje Y\")       # Modificar de acuerdo a lo graficado\n",
        "plt.xlabel(\"Nombre de eje X\")       # Modificar de acuerdo a lo graficado\n",
        "\n",
        "# Opciones para ajustar la distribución de objetos en el gráfico\n",
        "# No modificar a menos que desee experimentar!\n",
        "plt.legend(bbox_to_anchor=(1.05, 1), loc=2, borderaxespad=0.)\n",
        "plt.tight_layout()"
      ],
      "execution_count": null,
      "outputs": []
    },
    {
      "cell_type": "code",
      "metadata": {
        "id": "uyd-4G6gTUx4"
      },
      "source": [
        "# Esta funcion permite calcular el intercepto del eje X\n",
        "ce.find_x_intercept()"
      ],
      "execution_count": null,
      "outputs": []
    },
    {
      "cell_type": "markdown",
      "metadata": {
        "id": "xhs4s-CzSf0D"
      },
      "source": [
        "## **Preguntas a desarrollar**"
      ]
    },
    {
      "cell_type": "markdown",
      "metadata": {
        "id": "HHsC0yvpnD3g"
      },
      "source": [
        "Complete la siguiente tabla con los valores de $V_{max}$ y $K_m$ que obtuvo en los ajustes realizados de esta sección. Recuerde que:\n",
        "\n",
        "- Los parámetros ajustados sin inhibidor se obtuvieron en la primera sección (Curva de Saturación)\n",
        "\n",
        "- Para obtener los parámetros a partir de Lineweaver-Burk deberá realizar cálculos (ya que no se obtienen directamente desde el ajuste a la recta)"
      ]
    },
    {
      "cell_type": "markdown",
      "metadata": {
        "id": "cXzVN3TXnEOK"
      },
      "source": [
        "Haz doble clic (o ingresa) para editar\n",
        "\n",
        "|  | $V_{max}$ | $K_m$ |\n",
        "|:-:|:-:|:-:|\n",
        "| **Michaelis-<br>Menten** | -------- | --------- |\n",
        "| Sin Inhibidor | Su valor acá | Su valor acá |\n",
        "| Con Inhibidor | Su valor acá | Su valor acá |\n",
        "| **Lineweaver-<br>Burk** | -------- | --------- |\n",
        "| Sin Inhibidor | Su valor acá | Su valor acá |\n",
        "| Con Inhibidor | Su valor acá | Su valor acá |"
      ]
    },
    {
      "cell_type": "markdown",
      "metadata": {
        "id": "hrwjSnGtSf0D"
      },
      "source": [
        "**En base a la tabla superior ¿Qué parámetro(s) se ve(n) afectado(s)? ¿Cómo actúan los inhibidores mixtos a nivel biológico?** (Hint: Considere efectos en la Enzima y/o complejo Enzima/Sustrato)"
      ]
    },
    {
      "cell_type": "markdown",
      "metadata": {
        "id": "EXqLfRw3Sf0E"
      },
      "source": [
        ""
      ]
    },
    {
      "cell_type": "markdown",
      "metadata": {
        "id": "XIBYWXru-MAJ"
      },
      "source": [
        "**La inhibición no-competitiva es considerada un caso especial de inhibición mixta. Considerando que la inhibición mixta depende (entre otros factores) de los valores de $K_{ic}$ y $K_{iu}$ ¿Qué condiciones deben cumplir estas constantes para que frente a un caso de inhibición no-competitiva?** (Hint: Recuerde que $K_{ic}$ y $K_{iu}$ son constantes de afinidad)"
      ]
    },
    {
      "cell_type": "markdown",
      "metadata": {
        "id": "ciCM-w-R-MlN"
      },
      "source": [
        ""
      ]
    },
    {
      "cell_type": "markdown",
      "metadata": {
        "id": "s5fqEtHuUjVN"
      },
      "source": [
        "## **Efecto de un inhibidor acompetitivo**"
      ]
    },
    {
      "cell_type": "code",
      "metadata": {
        "id": "ZeI4XlrcJ0Pj"
      },
      "source": [
        "# Gráfico Inhibidores acompetitivos\n",
        "# Recomiendo no cambiar parametros de esta funcion\n",
        "ce.interactive_uncomp_inhibitor_graph1(np.linspace(0, 10000, 10000//10), ce.fit_micment_uncomp_inhibitor)"
      ],
      "execution_count": null,
      "outputs": []
    },
    {
      "cell_type": "code",
      "metadata": {
        "id": "qOFsDZuxJ0di"
      },
      "source": [
        "# Gráfico Inhibidores acompetitivos\n",
        "# Recomiendo no cambiar parametros de esta funcion\n",
        "ce.interactive_uncomp_inhibitor_graph2(np.linspace(1000, 10000, 10000//10), ce.fit_micment_uncomp_inhibitor)"
      ],
      "execution_count": null,
      "outputs": []
    },
    {
      "cell_type": "code",
      "metadata": {
        "id": "iO_2DBy9J0nP"
      },
      "source": [
        "# En primer lugar se debe leer el archivo que contiene los datos\n",
        "ruta_de_archivo = \"uncomp_inhibitor_data_problem_data.csv\"\n",
        "datos_inhibacomp = pd.read_csv(ruta_de_archivo)\n",
        "\n",
        "datos_inhibacomp\n",
        "#print(datos)"
      ],
      "execution_count": null,
      "outputs": []
    },
    {
      "cell_type": "code",
      "metadata": {
        "id": "egEs2XI6J0zu"
      },
      "source": [
        "colores = plt.cm.plasma_r(np.linspace(0.25, 0.75, len(list(datos_inhibacomp.columns))-1))\n",
        "\n",
        "# Se crea la figura y un objeto ax\n",
        "fig, ax = plt.subplots(figsize=(10,5), dpi=150)\n",
        "\n",
        "# Se realiza un bucle para graficar todos los datos en una misma figura\n",
        "for i in range(1, len(list(datos_inhibacomp.columns))):\n",
        "    datos_inhibacomp.plot(\n",
        "        datos_inhibacomp.columns[0], \n",
        "        datos_inhibacomp.columns[i], \n",
        "        kind='scatter',\n",
        "        color=colores[i-1],\n",
        "        alpha=0.8,\n",
        "        s=4, \n",
        "        ax=ax,\n",
        "        label=datos_inhibacomp.columns[i])\n",
        "\n",
        "# Se grafica adicionalmente el ajuste inicial a la curva de MM sin inhibidores    \n",
        "ax.plot(\n",
        "    datos_x_curva_sat, \n",
        "    resultados_ajuste_curva_sat[\"prediccionesModelo\"], \n",
        "    color=\"g\", \n",
        "    alpha=0.8,\n",
        "    lw=2.0, \n",
        "    ls=\"--\", \n",
        "    label=\"Ajuste a MM sin inhibidores\")\n",
        "\n",
        "plt.title(\"Título del Gráfico\")     # Modificar de acuerdo a lo graficado\n",
        "plt.ylabel(\"Nombre de eje Y\")       # Modificar de acuerdo a lo graficado\n",
        "plt.xlabel(\"Nombre de eje X\")       # Modificar de acuerdo a lo graficado\n",
        "\n",
        "# Opciones para ajustar la distribución de objetos en el gráfico\n",
        "# No modificar a menos que desee experimentar!\n",
        "plt.legend(bbox_to_anchor=(1.05, 1), loc=2, borderaxespad=0.)\n",
        "plt.tight_layout()"
      ],
      "execution_count": null,
      "outputs": []
    },
    {
      "cell_type": "code",
      "metadata": {
        "id": "IESxlC0eJ0-M"
      },
      "source": [
        "# Ajustar curvas\n",
        "\n",
        "# Datos deben ser transformados a arreglos numpy para ser ajustados\n",
        "# IMPORTANTE: Para cambiar de columna se debe cambiar el índice de datos_y\n",
        "datos_x_inhibacomp = datos_inhibacomp[datos_inhibacomp.columns[0]].to_numpy()\n",
        "datos_y_inhibacomp = datos_inhibacomp[datos_inhibacomp.columns[2]].to_numpy()\n",
        "\n",
        "# Se ajustan los datos experimentales a los predecidos por el modelo\n",
        "resultados_ajuste = ce.ajustar_modelo(ce.fit_micment_uncomp_inhibitor, datos_x_inhibacomp, datos_y_inhibacomp)\n",
        "\n",
        "# resultados_ajuste es un diccionario que tiene dos llaves:\n",
        "# \"prediccionesModelo\": la cual corresponde a un arreglo de datos generados por el modelo\n",
        "# \"difDatosModelo\": la cual corresponde a un arreglo de datos y se utilizará para graficar los residuales"
      ],
      "execution_count": null,
      "outputs": []
    },
    {
      "cell_type": "code",
      "metadata": {
        "id": "695mwmUAJ0uR"
      },
      "source": [
        "# Veamos qué tan bien se ajusta el modelo a los datos experimentales\n",
        "fig, ax = plt.subplots(figsize=(10,5), dpi=150)\n",
        "\n",
        "# Primero se graficarán los datos experimentales\n",
        "# Recuerde seleccionar la columna correspondientes a los datos elegidos\n",
        "datos_inhibacomp.plot(\n",
        "        datos_inhibacomp.columns[0], \n",
        "        datos_inhibacomp.columns[2], \n",
        "        kind='scatter',\n",
        "        color=\"r\",\n",
        "        alpha=0.4,\n",
        "        s=4, \n",
        "        ax=ax,\n",
        "        label=datos_inhibacomp.columns[2])\n",
        "\n",
        "# Luego se graficarán los datos obtenidos mediante el modelo\n",
        "ax.plot(\n",
        "    datos_x_inhibacomp, \n",
        "    resultados_ajuste[\"prediccionesModelo\"], \n",
        "    color=\"b\", \n",
        "    alpha=1.0,\n",
        "    lw=2.0, \n",
        "    ls=\"--\", \n",
        "    label=\"Ajuste\")\n",
        "\n",
        "# Se grafica ademas el ajuste a la curva de MM sin inhibidores\n",
        "ax.plot(\n",
        "    datos_x_curva_sat, \n",
        "    resultados_ajuste_curva_sat[\"prediccionesModelo\"], \n",
        "    color=\"g\", \n",
        "    alpha=0.8,\n",
        "    lw=2.0, \n",
        "    ls=\"--\", \n",
        "    label=\"Ajuste a MM sin inhibidores\")\n",
        "\n",
        "plt.legend()\n",
        "plt.title(\"Título del Gráfico\")     # Modificar de acuerdo a lo graficado\n",
        "plt.ylabel(\"Nombre de eje Y\")       # Modificar de acuerdo a lo graficado\n",
        "plt.xlabel(\"Nombre de eje X\")       # Modificar de acuerdo a lo graficado"
      ],
      "execution_count": null,
      "outputs": []
    },
    {
      "cell_type": "markdown",
      "metadata": {
        "id": "x7RNmZ1wUQjQ"
      },
      "source": [
        "## **Gráficos y Ajuste a Lineweaver-Burk**"
      ]
    },
    {
      "cell_type": "code",
      "metadata": {
        "id": "ZOWlFyDCUNxH"
      },
      "source": [
        "# Se crea la figura y un objeto ax\n",
        "fig, ax = plt.subplots(figsize=(10,5), dpi=150)\n",
        "\n",
        "# Se realiza un bucle para graficar todos los datos en una misma figura\n",
        "plt.scatter(\n",
        "    np.divide(1, datos_inhibacomp[datos_inhibacomp.columns[0]][200:]), \n",
        "    np.divide(1, datos_inhibacomp[datos_inhibacomp.columns[2]][200:]),\n",
        "    color=\"b\",\n",
        "    alpha=0.8,\n",
        "    s=4,\n",
        "    label=datos_inhibacomp.columns[2])\n",
        "\n",
        "plt.title(\"Título del Gráfico\")     # Modificar de acuerdo a lo graficado\n",
        "plt.ylabel(\"Nombre de eje Y\")       # Modificar de acuerdo a lo graficado\n",
        "plt.xlabel(\"Nombre de eje X\")       # Modificar de acuerdo a lo graficado\n",
        "\n",
        "# Opciones para ajustar la distribución de objetos en el gráfico\n",
        "# No modificar a menos que desee experimentar!\n",
        "plt.legend(bbox_to_anchor=(1.05, 1), loc=2, borderaxespad=0.)\n",
        "plt.tight_layout()"
      ],
      "execution_count": null,
      "outputs": []
    },
    {
      "cell_type": "code",
      "metadata": {
        "id": "JQmUcLBBUORv"
      },
      "source": [
        "# Ajustar curvas\n",
        "\n",
        "# Datos deben ser transformados a arreglos numpy para ser ajustados\n",
        "# IMPORTANTE: Para cambiar de columna se debe cambiar el índice de datos_y\n",
        "# (donde dice datos_inhibacomp.columns[índice])\n",
        "datos_x_lwburk = np.divide(1, datos_inhibacomp[datos_inhibacomp.columns[0]][200:])\n",
        "datos_y_lwburk = np.divide(1, datos_inhibacomp[datos_inhibacomp.columns[2]][200:])\n",
        "\n",
        "# Se ajustan los datos experimentales a los predichos por el modelo\n",
        "# para mayor informacion acerca del modelo utilizado refierase a las clases de cinética enzimática\n",
        "resultados_ajuste_lwburk = ce.ajustar_modelo(ce.fit_lwburk, datos_x_lwburk, datos_y_lwburk)\n",
        "\n",
        "# resultados_ajuste es un diccionario que tiene dos llaves:\n",
        "# \"prediccionesModelo\": la cual corresponde a un arreglo de datos generados por el modelo\n",
        "# \"difDatosModelo\": la cual corresponde a un arreglo de datos y se utilizará para graficar los residuales"
      ],
      "execution_count": null,
      "outputs": []
    },
    {
      "cell_type": "code",
      "metadata": {
        "id": "nkgFEBN7UOjo"
      },
      "source": [
        "# Se crea la figura y un objeto ax\n",
        "fig, ax = plt.subplots(figsize=(10,5), dpi=150)\n",
        "\n",
        "# Se grafican los datos transformados a Lineweaver-Burk\n",
        "plt.scatter(\n",
        "    datos_x_lwburk, \n",
        "    datos_y_lwburk,\n",
        "    color=\"r\",\n",
        "    alpha=0.8,\n",
        "    s=4,\n",
        "    label=\"Datos experimentales\")\n",
        "\n",
        "# Se grafica también la recta obtenida luego de ajustar los datos al modelo\n",
        "ax.plot(\n",
        "    datos_x_lwburk, \n",
        "    resultados_ajuste_lwburk[\"prediccionesModelo\"], \n",
        "    color=\"b\", \n",
        "    alpha=0.8,\n",
        "    lw=2.0, \n",
        "    ls=\"--\", \n",
        "    label=\"Ajuste a Lineweaver-Burk\")\n",
        "\n",
        "plt.title(\"Título del Gráfico\")     # Modificar de acuerdo a lo graficado\n",
        "plt.ylabel(\"Nombre de eje Y\")       # Modificar de acuerdo a lo graficado\n",
        "plt.xlabel(\"Nombre de eje X\")       # Modificar de acuerdo a lo graficado\n",
        "\n",
        "# Opciones para ajustar la distribución de objetos en el gráfico\n",
        "# No modificar a menos que desee experimentar!\n",
        "plt.legend(bbox_to_anchor=(1.05, 1), loc=2, borderaxespad=0.)\n",
        "plt.tight_layout()"
      ],
      "execution_count": null,
      "outputs": []
    },
    {
      "cell_type": "code",
      "metadata": {
        "id": "ruf3jC39UO1F"
      },
      "source": [
        "# Esta funcion permite calcular el intercepto del eje X\n",
        "ce.find_x_intercept()"
      ],
      "execution_count": null,
      "outputs": []
    },
    {
      "cell_type": "markdown",
      "metadata": {
        "id": "fGZ7mQqeNsYU"
      },
      "source": [
        "##**Preguntas a desarrollar**"
      ]
    },
    {
      "cell_type": "markdown",
      "metadata": {
        "id": "-vP7DgZwrUM7"
      },
      "source": [
        "Complete la siguiente tabla con los valores de $V_{max}$ y $K_m$ que obtuvo en los ajustes realizados de esta sección. Recuerde que:\n",
        "\n",
        "- Los parámetros ajustados sin inhibidor se obtuvieron en la primera sección (Curva de Saturación)\n",
        "\n",
        "- Para obtener los parámetros a partir de Lineweaver-Burk deberá realizar cálculos (ya que no se obtienen directamente desde el ajuste a la recta)"
      ]
    },
    {
      "cell_type": "markdown",
      "metadata": {
        "id": "dDeAINcqrVXv"
      },
      "source": [
        "Haz doble clic (o ingresa) para editar\n",
        "\n",
        "|  | $V_{max}$ | $K_m$ |\n",
        "|:-:|:-:|:-:|\n",
        "| **Michaelis-<br>Menten** | -------- | --------- |\n",
        "| Sin Inhibidor | Su valor acá | Su valor acá |\n",
        "| Con Inhibidor | Su valor acá | Su valor acá |\n",
        "| **Lineweaver-<br>Burk** | -------- | --------- |\n",
        "| Sin Inhibidor | Su valor acá | Su valor acá |\n",
        "| Con Inhibidor | Su valor acá | Su valor acá |"
      ]
    },
    {
      "cell_type": "markdown",
      "metadata": {
        "id": "msPsVsDsNtKn"
      },
      "source": [
        "**En base a la tabla superior ¿Qué parámetro(s) se ve(n) afectado(s)? ¿Cómo actúan los inhibidores acompetitivos/uncomptetitivos a nivel biológico?** (Hint: Considere efectos en la Enzima y/o complejo Enzima/Sustrato)"
      ]
    },
    {
      "cell_type": "markdown",
      "metadata": {
        "id": "gQ-PGo2INtfI"
      },
      "source": [
        ""
      ]
    },
    {
      "cell_type": "markdown",
      "metadata": {
        "id": "ecw6p__SNtU2"
      },
      "source": [
        "**¿Por qué en la inhibición acompetitiva/uncompetitiva se obtienen rectas paralelas en el gráfico de Lineweaver-Burk?**"
      ]
    },
    {
      "cell_type": "markdown",
      "metadata": {
        "id": "HkMPsXcdNs-P"
      },
      "source": [
        ""
      ]
    },
    {
      "cell_type": "markdown",
      "metadata": {
        "id": "BaRTULX3Z8iG"
      },
      "source": [
        "## **Inhibidor Incognito**"
      ]
    },
    {
      "cell_type": "markdown",
      "metadata": {
        "id": "VKh5QPGPaBAj"
      },
      "source": [
        "###Usted contará con un archivo llamado \"incognito.csv\" en su carpeta de Google Drive, el cual tiene **seis** columnas: Concentracion de Sutrato, Tasa de Reacción y 4 columnas de Tasas de Reacción (con inhibidor) a diferentes concentraciones del inhibidor. A partir de estos datos, deberá:\n",
        "\n",
        "#### ***Elegir una concentración de inhibidor para hacer las actividades***.\n",
        "- Construir un gráfico con la curva de **Michaelis-Menten**.\n",
        "- **Ajustar** los datos al modelo de Michaelis-Menten.\n",
        "- Graficar los datos experimentales (recuerde modificarlos para Lineweaver-Burk) junto a los datos predichos por el ajuste.\n",
        "\n",
        "- Construir un gráfico de **Lineweaver-Burk**.\n",
        "- **Ajustar** los datos al modelo de Lineweaver-Burk.\n",
        "- Graficar los datos experimentales (recuerde modificarlos para Lineweaver-Burk) junto a los datos predichos por el ajuste.\n",
        "\n",
        "- Explicar a partir de los parámetros ajustados a **qué tipo de inhibidor corresponde** el que le fue asignado.\n",
        "\n",
        "### Esta sección debe desarrollarla en base a los que ha sido explicado en los cuadernillos de:\n",
        "- ### Introducción a Python\n",
        "- ### Cinética Enzimática I\n",
        "- ### Cinética Eznimática II\n",
        "\n",
        "### Recuerde que al comienzo de esta sección se mencionó que no era necesario reinventar la rueda; **use el código de estos cuadernillos, y si prefiere cambiar parte del código, adelante!** Todo lo necesario para desarrollar sus actividades se encuentra en los tres cuadernillos que tiene a su disposición."
      ]
    },
    {
      "cell_type": "code",
      "metadata": {
        "id": "RnFnOGDgcm1J"
      },
      "source": [
        "# Para su código\n",
        "\n",
        "\n"
      ],
      "execution_count": null,
      "outputs": []
    },
    {
      "cell_type": "code",
      "metadata": {
        "id": "hU8YLnTIcmpz"
      },
      "source": [
        "# Para su código"
      ],
      "execution_count": null,
      "outputs": []
    },
    {
      "cell_type": "code",
      "metadata": {
        "id": "YRdx9Z83dH8n"
      },
      "source": [
        "# Para su código"
      ],
      "execution_count": null,
      "outputs": []
    },
    {
      "cell_type": "code",
      "metadata": {
        "id": "x0p6PiGodIcl"
      },
      "source": [
        "# Para su código"
      ],
      "execution_count": null,
      "outputs": []
    },
    {
      "cell_type": "code",
      "metadata": {
        "id": "ij8DI6h5dI66"
      },
      "source": [
        "# Para su código"
      ],
      "execution_count": null,
      "outputs": []
    },
    {
      "cell_type": "code",
      "metadata": {
        "id": "7I0s3RhWdIq1"
      },
      "source": [
        "# Para su código"
      ],
      "execution_count": null,
      "outputs": []
    },
    {
      "cell_type": "code",
      "metadata": {
        "id": "ZSw1CxpGdIP1"
      },
      "source": [
        "# Para su código"
      ],
      "execution_count": null,
      "outputs": []
    },
    {
      "cell_type": "code",
      "metadata": {
        "id": "rDXE1W-qdHp4"
      },
      "source": [
        "# Para su código\n",
        "# (Si lo requiere puede agregar más celdas abajo)"
      ],
      "execution_count": null,
      "outputs": []
    },
    {
      "cell_type": "markdown",
      "metadata": {
        "id": "td1TD4A0U1Jk"
      },
      "source": [
        "## **Actividad**\n",
        "\n",
        "**Una vez hecho su código, los gráficos y los ajustes correspondientes, complete la siguiente tabla y a continuación desarrolle la pregunta**\n",
        "\n",
        "Haz doble clic (o ingresa) para editar\n",
        "\n",
        "|  | $V_{max}$ | $K_m$ |\n",
        "|:-:|:-:|:-:|\n",
        "| **Michaelis-<br>Menten** | -------- | --------- |\n",
        "| Sin Inhibidor | Su valor acá | Su valor acá |\n",
        "| Con Inhibidor | Su valor acá | Su valor acá |\n",
        "| **Lineweaver-<br>Burk** | -------- | --------- |\n",
        "| Sin Inhibidor | Su valor acá | Su valor acá |\n",
        "| Con Inhibidor | Su valor acá | Su valor acá |\n",
        "\n",
        "\n",
        "- **¿A qué tipo de inhibidor corresponde el que le fue asignado? Fundamente en base a los parámetros ajustados.**"
      ]
    },
    {
      "cell_type": "markdown",
      "metadata": {
        "id": "w3qCH8qWXgkg"
      },
      "source": [
        "Escriba su respuesta acá"
      ]
    },
    {
      "cell_type": "markdown",
      "metadata": {
        "id": "UCrzepvw8IkM"
      },
      "source": [
        "## **Exportar cuadernillo a PDF**"
      ]
    },
    {
      "cell_type": "markdown",
      "metadata": {
        "id": "bb7_y42zD5Nt"
      },
      "source": [
        "### IMPORTANTE: Debido a que el proceso de instalacion es remoto, la ejecución de la primera celda tarda entre 10-15 minutos. (Se recomienda ejecutarla una vez resuelto el cuadernillo y cuando se quiera convertir a PDF)\n",
        "\n",
        "### En caso de obtener errores al convertir el cuadernillo a PDF se recomienda lo siguiente: **Ir a Entorno de ejecución -> Restablecer la configuracion de fabrica del entorno** (no se preocupen ya que el código **no cambia**; piensen de esto como un formateo al sistema operativo). Luego de hacer esto, volver a ejecutar la celda de abajo para una instalación nueva de LaTeX y la última celda para exportar el cuadernillo.\n",
        "\n",
        "**Si esta celda le trae muchos problemas, no la ejecute y guarde el cuadernillo en su carpeta de trabajo (Archivo -> Guardar). Asegurese de que quedó guardado correctamente ingresando a su carpeta y viendo la última fecha y hora de modificación.**"
      ]
    },
    {
      "cell_type": "code",
      "metadata": {
        "id": "LyR8Fsz6X0Jw"
      },
      "source": [
        "%%capture out\n",
        "\n",
        "# Instala paquetes necesarios para renderizar LaTeX\n",
        "!apt-get install texlive-full\n",
        "!apt-get install pandoc\n",
        "!apt-get install texlive-xetex\n",
        "\n",
        "# Instala paquetes necesarios para convertir a PDF\n",
        "!pip install metakernel\n",
        "!pip install jupyterlab\n",
        "!pip install jupyterlab_latex\n",
        "!pip install nbconvert\n",
        "\n",
        "import nbconvert"
      ],
      "execution_count": null,
      "outputs": []
    },
    {
      "cell_type": "code",
      "metadata": {
        "id": "mXBtZOoVNAtG"
      },
      "source": [
        "# Instala extensiones para widgets interactivos\n",
        "!pip2.7 install https://github.com/ipython-contrib/jupyter_contrib_nbextensions/tarball/master\n",
        "!jupyter contrib nbextension install --system \n",
        "!jupyter nbextension enable --py widgetsnbextension"
      ],
      "execution_count": null,
      "outputs": []
    },
    {
      "cell_type": "code",
      "metadata": {
        "id": "erJcFq3JsZZV"
      },
      "source": [
        "# Importar nbconvert para convertir a PDF su cuadernillo\n",
        "import nbconvert\n",
        "!jupyter nbconvert \"/content/drive/Shared drives/GC_Cinética - Alejandro Aravena/Cinetica_Enzimatica_1.ipynb\" --to pdf"
      ],
      "execution_count": null,
      "outputs": []
    }
  ]
}
