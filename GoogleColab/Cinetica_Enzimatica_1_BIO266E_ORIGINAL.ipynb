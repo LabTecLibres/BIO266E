{
  "nbformat": 4,
  "nbformat_minor": 0,
  "metadata": {
    "orig_nbformat": 2,
    "kernelspec": {
      "name": "python3",
      "display_name": "Python 3"
    },
    "colab": {
      "name": "Cinetica_Enzimatica_1_AA.ipynb",
      "provenance": [],
      "collapsed_sections": []
    }
  },
  "cells": [
    {
      "cell_type": "markdown",
      "metadata": {
        "id": "OafbyfxrsOS5"
      },
      "source": [
        "# **Cinética Enzimática I**"
      ]
    },
    {
      "cell_type": "markdown",
      "metadata": {
        "id": "rWIwXqwg_CFb"
      },
      "source": [
        "## Las celdas inferiores pueden ejecutarse con normalidad para que funcione correctamente el cuadernillo (la sección de conversión a PDF fue localizada al final del cuadernillo)"
      ]
    },
    {
      "cell_type": "code",
      "metadata": {
        "id": "sO3pMUkMSfzI"
      },
      "source": [
        "%%capture out\n",
        "# Instala extensiones para widgets interactivos\n",
        "\n",
        "!pip install jupyter_contrib_nbextensions\n",
        "!jupyter contrib nbextension install\n",
        "!jupyter nbextension enable --py widgetsnbextension"
      ],
      "execution_count": null,
      "outputs": []
    },
    {
      "cell_type": "code",
      "metadata": {
        "id": "x6iHUpo1WBCi"
      },
      "source": [
        "# Modulos necesarios para ejecutar el código\n",
        "\n",
        "import os                             # Modulo para operaciones a nivel de Sistema Operativo\n",
        "import sys                            # Operaciones a nivel de sistema (para añadir rutas)\n",
        "import math                           # Operaciones matemáticas \n",
        "import numpy as np                    # Creación y manejo de arreglos, además de operaciones con estos\n",
        "import pandas as pd                   # Manejo y operaciones con bases de datos grandes\n",
        "import matplotlib                     # Creación de gráficos\n",
        "import matplotlib.pyplot as plt       # Módulo específico de gráficos\n",
        "import warnings                       # Utilizado para silenciar ciertas advertencias\n",
        "import csv                            # Importar, exportar, leer y escribir archivos .csv\n",
        "import scipy.stats                    # Módulo científico estadístico\n",
        "import nbconvert                      # Para convertir cuadernillo a PDF\n",
        "import ipywidgets as widgets          # Utilizado para crear outputs interactivos\n",
        "import IPython                        # Utilizado para el manejo del output\n",
        "from IPython.display import HTML      # Renderiza HTML en el output\n",
        "\n",
        "# Disminuye la verbosidad de matplotlib al crear gráficos\n",
        "from matplotlib.axes._axes import _log as matplotlib_axes_logger\n",
        "matplotlib_axes_logger.setLevel('ERROR')\n",
        "\n",
        "# Utilizado para dar distintos estilos a matplotlib\n",
        "# y que los gráficos se muestren en línea con el código\n",
        "plt.style.use('ggplot')\n",
        "%matplotlib inline"
      ],
      "execution_count": null,
      "outputs": []
    },
    {
      "cell_type": "code",
      "metadata": {
        "id": "DLJ36N_wS_J3"
      },
      "source": [
        "# Para permitir el acceso a archivos de google drive\n",
        "from google.colab import drive\n",
        "drive.mount('/content/drive')\n",
        "# Imprime el directorio en el que se encuentra\n",
        "os.getcwd()"
      ],
      "execution_count": null,
      "outputs": []
    },
    {
      "cell_type": "code",
      "metadata": {
        "id": "owQsfN7CxC9Y"
      },
      "source": [
        "# Se cambia de directorio al de drives compartidos\n",
        "%cd '/content/drive/Shared drives'"
      ],
      "execution_count": null,
      "outputs": []
    },
    {
      "cell_type": "code",
      "metadata": {
        "id": "KUXbyZkvxOkA"
      },
      "source": [
        "# Se lista el contenido del directorio\n",
        "!ls\n",
        "# Recordar que se debe seleccionar la carpeta suya!"
      ],
      "execution_count": null,
      "outputs": []
    },
    {
      "cell_type": "code",
      "metadata": {
        "id": "jUltiyRMWxNg"
      },
      "source": [
        "# Esta celda añade la ruta especificada a las rutas de busqueda del sistema,\n",
        "# esto permite que se puedan importar módulos externos a python\n",
        "sys.path.append('/content/drive/Shared\\ drives/GC_Cinética - Alejandro Aravena')\n",
        "\n",
        "# Esta celda no va a retornar nada"
      ],
      "execution_count": null,
      "outputs": []
    },
    {
      "cell_type": "code",
      "metadata": {
        "id": "yLmrZ1lkXEaX"
      },
      "source": [
        "# Aquí cambiamos de directorio (con el cual trabajaremos)\n",
        "%cd \"/content/drive/Shared drives/GC_Cinética - Alejandro Aravena\"\n",
        "#%cd \"/content/drive/Shared drives/PEGUE AQUI EL NOMBRE DE SU CARPETA\""
      ],
      "execution_count": null,
      "outputs": []
    },
    {
      "cell_type": "code",
      "metadata": {
        "id": "mzz1ar6wZBQS"
      },
      "source": [
        "# Finalmente acá se importa un módulo diseñado para este curso\n",
        "import cinetica_enzimatica_estudiantes_bio266 as ce"
      ],
      "execution_count": null,
      "outputs": []
    },
    {
      "cell_type": "markdown",
      "metadata": {
        "id": "gWk-FKbqSfzN"
      },
      "source": [
        "# **Introduccion**\n"
      ]
    },
    {
      "cell_type": "markdown",
      "metadata": {
        "id": "flb3e_U7SfzN"
      },
      "source": [
        "La **β-galactosidasa** de E. coli es una enzima cuya función en la naturaleza es la degradación de disacáridos β-galactósidos con enlace beta a monosacáridos, entre ellos, degradar la lactosa a glucosa y galactosa. El sustrato usado en esta actividad será **o-nitrofenil-β-D-galactopiranósido** (**oNPGal**), este es un sustrato sintético que también es hidrolizado por la enzima. Se utiliza este oNPGal porque el método de ensayo resulta más simple que emplear el sustrato natural lactosa, ya que uno de los productos de la reacción, o-nitrofenol (oNF), absorbe a 420 nm y se puede cuantificar colorimétricamente.\n",
        "\n",
        "En estos trabajos prácticos se efectuará una caracterización de la β-galactosidasa de E. coli comercial *in silico*, con datos generados aleatoriamente mediante la interpolación de datos previos.  \n",
        "\n",
        "Esta sección será dividida en dos laboratorios (1 y 2). En la primera se determinarán las condiciones experimentales óptimas para el ensayo de actividad: curva de calibración para cuantificar el producto oNF, efecto de la concentración de enzima, del pH y de la temperatura sobre la actividad enzimática.  En la segunda sesión se determinarán los parámetros cinéticos de la enzima, Km y Vmáx, y se determinará el efecto de dos inhibidores sobre la actividad enzimática: galactosa y glucosa.\n"
      ]
    },
    {
      "cell_type": "markdown",
      "metadata": {
        "id": "RvUvJ8jaSfzO"
      },
      "source": [
        "# **Efecto de la concentracion inicial de enzima sobre la tasa de reacción**\n",
        "\n",
        "En las mediciones de actividad enzimática es importante determinar las condiciones de cinética de orden cero. Esto permite detectar la velocidad inicial de la reacción, lo cual facilita los cálculos de parámetros cinéticos de la enzima (para mayor información, referirse a las notas de la clase de cinética enzimática y derivación de ecuaciones de M-M).\n",
        "Para establecer estas condiciones se determina el efecto de la concentración de la enzima sobre la velocidad de reacción. \n",
        "\n",
        "**Diseño Experimental**:\n",
        "\n",
        "Para esto se realizará una curva de progreso (concentración de producto vs tiempo) usando tres diluciones diferentes de la enzima en fosfato 50 mM pH 7.2. De estas curvas se escogerá la concentración de enzima y el tiempo de reacción para realizar los ensayos posteriores en condiciones de velocidad inicial de reacción de la enzima.\n",
        "\n",
        "Se preparan tres tubos (A, B, C) de 15 ml cada uno con las cantidades indicadas:\n",
        "1.6 ml de agua\t\t\t\t\t\n",
        "0.8 ml fosfato 50 mM pH 7.2\t\t\n",
        "0.8 ml de oNPGal 3 mg/ml\t\t \n",
        "\n",
        "Además, se prepararán en forma independiente 21 tubos Eppendorf con 500 μl de Na2CO3 1 M pH 10 (utilizados para la detención de la reacción enzimática).\n",
        "\n",
        "Luego de mezclar bien el agua, fosfato y sustrato del tubo de 15 ml, se agrega 800 μl de la dilución de enzima (tiempo cero); 1:250 (tubo A), 1:500 Tubo (B), 1:1000 (Tubo C). Se mezcla inmediatamente y, antes de incubar a 37ºC, se extraen 500 μl correspondientes a la medición de tiempo cero (estos 500μl se mezclarán con el primer tubo que contiene Na2CO3 alicuotado). Luego se incubará la mezcla de la reacción a 37 °C. Se tomarán 500 μl  de la mezcla de reacción a los tiempos exactos (medidos con cronómetro) y se agregarán a los tubos Eppendorfs respectivos que contienen cada uno 500 μl de Na2CO3 1M pH 10, para detener cada reacción al tiempo adecuado. Luego el tubo se agitará 3 veces por inversión. El tubo grande debería contener aprox. 500 μl de mezcla al final del proceso completo. Este proceso se debe repetir con los tubos B y C.\n",
        "Posteriormente, se realizarán mediciones de absorbancia a 420 nm en el espectrofotómetro para cada uno de los tubos Eppendorf. Se obtendrán 7 puntos para A, 7 para B y 7 para C.\n",
        "\n",
        "**Análisis de datos**:\n",
        "\n",
        "Los datos que se obtienen son absorbancias a diferentes tiempos para cada dilución enzimática, pero los datos han sido modificados para convertirlos a concentración de producto ($\\mu M$). Es por esta razón que no se realizará la curva de calibración.\n"
      ]
    },
    {
      "cell_type": "code",
      "metadata": {
        "id": "8O3dK7_4pkCE"
      },
      "source": [
        "# Gráfico Progreso\n",
        "# Recomiendo no cambiar parametros de esta funcion\n",
        "ce.interactive_progress_graph(np.linspace(0, 10, 60), ce.fit_progress_curve)"
      ],
      "execution_count": null,
      "outputs": []
    },
    {
      "cell_type": "code",
      "metadata": {
        "id": "SlE7Oks4Sfza"
      },
      "source": [
        "# Curva de Progreso\n",
        "\n",
        "# Primero debemos abrir el archivo, para lo cual se cargan los datos\n",
        "# utlizando las rutas de archivos (si se conocen los nombres), o\n",
        "# la barra izquierda de Google Colab, que permite navegar el Drive\n",
        "# hasta encontrar los archivos\n",
        "ruta_de_archivo = \"progress_curve_data.csv\"\n",
        "\n",
        "# Esta línea lee el archivo utilizando Pandas,\n",
        "# dando como resultado un DataFrame\n",
        "datos_curvadeprog = pd.read_csv(ruta_de_archivo)\n",
        "\n",
        "%load_ext google.colab.data_table\n",
        "datos_curvadeprog\n",
        "#print(datos)"
      ],
      "execution_count": null,
      "outputs": []
    },
    {
      "cell_type": "code",
      "metadata": {
        "id": "hu6d3ICWSfzc"
      },
      "source": [
        "# Matplotlib pone a disposición una serie de mapas de colores\n",
        "# los cuales son útiles cuando se deben graficar varias series de\n",
        "# datos en una misma figura\n",
        "colores = plt.cm.plasma(np.linspace(0.25, 0.75, len(list(datos_curvadeprog.columns))-1))\n",
        "\n",
        "# Se crea la figura y un objeto ax\n",
        "fig, ax = plt.subplots(figsize=(10,5), dpi=150)\n",
        "\n",
        "# Se realiza un bucle para graficar todos los datos en una misma figura\n",
        "# Los objetos DataFrame que crea Pandas al importar un objeto se integran\n",
        "# facilmente con matplotlib, por lo que se facilita la creación de gráficos\n",
        "for i in range(1, len(list(datos_curvadeprog.columns))):\n",
        "    datos_curvadeprog.plot(\n",
        "        datos_curvadeprog.columns[0], \n",
        "        datos_curvadeprog.columns[i], \n",
        "        kind='scatter',\n",
        "        color=colores[i-1],\n",
        "        alpha=0.9,\n",
        "        s=2, \n",
        "        ax=ax,\n",
        "        label=datos_curvadeprog.columns[i])\n",
        "\n",
        "# Título y nombres de ejes (deben modificarse de acuerdo a lo graficado)\n",
        "plt.title(\"Título del Gráfico\")     # Modificar de acuerdo a lo graficado\n",
        "plt.ylabel(\"Nombre de eje Y\")       # Modificar de acuerdo a lo graficado\n",
        "plt.xlabel(\"Nombre de eje X\")       # Modificar de acuerdo a lo graficado\n",
        "\n",
        "# Opciones para ajustar la distribución de objetos en el gráfico\n",
        "# No modificar a menos que desee experimentar!\n",
        "plt.legend(bbox_to_anchor=(1.05, 1), loc=2, borderaxespad=0.)\n",
        "plt.tight_layout()"
      ],
      "execution_count": null,
      "outputs": []
    },
    {
      "cell_type": "code",
      "metadata": {
        "tags": [],
        "id": "qz3K_WRFSfzf"
      },
      "source": [
        "# Ajustar curvas\n",
        "\n",
        "# El modulo que fue creado contiene funciones que permiten ajustar datos experimentales\n",
        "# a modelos matemáticos que se han creado considerando los diferentes efectos que pueden tener\n",
        "# la temperatura y el pH\n",
        "\n",
        "# Datos deben ser transformados a arreglos numpy para ser ajustados\n",
        "# IMPORTANTE: Para cambiar de columna se debe cambiar el índice de datos_y\n",
        "datos_x_curva_progreso = datos_curvadeprog[datos_curvadeprog.columns[0]].to_numpy()\n",
        "datos_y_curva_progreso = datos_curvadeprog[datos_curvadeprog.columns[1]].to_numpy()\n",
        "\n",
        "# Se ajustan los datos experimentales a los predichos por el modelo\n",
        "# Debido a que los datos son \"lineales\", se realiza el ajuste a una ecuacion\n",
        "# del tipo y = ax + b\n",
        "resultados_ajuste_curva_progreso = ce.ajustar_modelo(ce.fit_progress_curve, datos_x_curva_progreso, datos_y_curva_progreso)\n",
        "\n",
        "# resultados_ajuste es un diccionario que tiene dos llaves:\n",
        "# \"prediccionesModelo\": la cual corresponde a un arreglo de datos generados por el modelo\n",
        "# \"difDatosModelo\": la cual corresponde a un arreglo de datos y se utilizará para graficar los residuales"
      ],
      "execution_count": null,
      "outputs": []
    },
    {
      "cell_type": "code",
      "metadata": {
        "id": "qzfbHzu_Sfzi"
      },
      "source": [
        "# Veamos qué tan bien se ajusta el modelo a los datos experimentales\n",
        "fig, ax = plt.subplots(figsize=(10,5), dpi=150)\n",
        "\n",
        "# Primero se graficarán los datos experimentales\n",
        "datos_curvadeprog.plot(\n",
        "        datos_curvadeprog.columns[0], \n",
        "        datos_curvadeprog.columns[1], \n",
        "        kind='scatter',\n",
        "        color=\"b\",\n",
        "        alpha=0.4,\n",
        "        s=4, \n",
        "        ax=ax,\n",
        "        label=datos_curvadeprog.columns[1])\n",
        "\n",
        "# Luego se graficarán los datos obtenidos mediante el modelo\n",
        "ax.plot(\n",
        "    datos_x_curva_progreso, \n",
        "    resultados_ajuste_curva_progreso[\"prediccionesModelo\"], \n",
        "    color=\"b\", \n",
        "    alpha=0.8,\n",
        "    lw=1.0, \n",
        "    ls=\"--\", \n",
        "    label=\"Ajuste\")\n",
        "\n",
        "plt.legend()\n",
        "plt.title(\"Título del Gráfico\")     # Modificar de acuerdo a lo graficado\n",
        "plt.ylabel(\"Nombre de eje Y\")       # Modificar de acuerdo a lo graficado\n",
        "plt.xlabel(\"Nombre de eje X\")       # Modificar de acuerdo a lo graficado"
      ],
      "execution_count": null,
      "outputs": []
    },
    {
      "cell_type": "markdown",
      "metadata": {
        "id": "jZpYYuFBSfzk"
      },
      "source": [
        "## **Preguntas a desarrollar**"
      ]
    },
    {
      "cell_type": "markdown",
      "metadata": {
        "id": "H2mS9ORMSfzl"
      },
      "source": [
        "**¿Qué fenómeno provoca que en la línea azul se obtenga más o menos producto en el mismo intervalo de tiempo?**"
      ]
    },
    {
      "cell_type": "markdown",
      "metadata": {
        "id": "BwWiRuAb2sQ3"
      },
      "source": [
        ""
      ]
    },
    {
      "cell_type": "markdown",
      "metadata": {
        "id": "n8Cq_9A6Sfzl"
      },
      "source": [
        "**Si consideramos que la enzima sigue una cinética regida bajo las ecuaciones de Michaelis-Menten ¿Qué sucede a condiciones saturantes de sustrato en la ecuación?** (Hint: Considerando condiciones saturantes que $[Sustrato]\\rightarrow \\infty$)"
      ]
    },
    {
      "cell_type": "markdown",
      "metadata": {
        "id": "3PNB3FiT3DyQ"
      },
      "source": [
        ""
      ]
    },
    {
      "cell_type": "markdown",
      "metadata": {
        "id": "E5892mMmwcDi"
      },
      "source": [
        "**Los datos obtenidos de los procedimientos experimentales generalmente se encuentran expresados en Absorbancias (a longitudes de ondas específicas). ¿Cómo es posible obtener la concentración de una sustancia a partir de su absorbancia?**"
      ]
    },
    {
      "cell_type": "markdown",
      "metadata": {
        "id": "eFFYyW7dwb0F"
      },
      "source": [
        ""
      ]
    },
    {
      "cell_type": "markdown",
      "metadata": {
        "id": "eiU8SHlEEwlr"
      },
      "source": [
        "**¿A qué parámetro de la ecuación de Michaelis-Menten podría corresponder la constante \"a\" que fue ajustada a la ecuación lineal? ¿Qué unidades tiene?** (Hint: Utilice la pregunta 2 y las clases de cinética como apoyo)"
      ]
    },
    {
      "cell_type": "markdown",
      "metadata": {
        "id": "cYKtdIvGEwWN"
      },
      "source": [
        ""
      ]
    },
    {
      "cell_type": "markdown",
      "metadata": {
        "id": "zYnULa52SqFU"
      },
      "source": [
        "### ***Recuerde que a partir de esta sección usted contará con una dilución enzimática desconocida. Los datos tendrán el mismo formato con el cual se trabajó en clases, sin embargo usted no conocerá la concentración de la enzima.***"
      ]
    },
    {
      "cell_type": "markdown",
      "metadata": {
        "id": "yZIqXVsdSfzm"
      },
      "source": [
        "# **Efecto del pH sobre la tasa de reacción**\n",
        "\n",
        "Se determinará la velocidad de reacción a diferentes pHs y se graficará el procentaje de actividad relativa en función del pH, considerando como 100% la mayor actividad obtenida en este ensayo. De esta forma se determinará el pH óptimo de la enzima. Cada incubación de realizará por el tiempo y la cantidad de enzima determinada en la actividad anterior a temperatura de 37ºC. Cuando se hable en estos apuntes de \"velocidad de la reacción\", siempre se estará refiriendo a la velocidad inicial. \n",
        "\n",
        "Se usarán 5 amortiguadores:\t- acetato de sodio 50 mM pH 3.5\n",
        "- citrato de sodio 50 mM pH 5.0 \n",
        "- fosfato de sodio 50 mM pH 6.4 \n",
        "- fosfato de sodio 50 mM pH 7.2\n",
        "- carbonato de sodio 50 mM pH 10.0\n",
        "\n",
        "A cada tubo se le agregará:\n",
        "200 μl de agua\n",
        "100 μl del amortiguador respectivo\n",
        "100 μl oNPgal 3mg/ml\n",
        "100 μl de la dilución de enzima\n",
        "\n",
        "Luego de la incubación a 37ºC se agregará 500 μl de Na2CO3 1M pH 10 para detener la reacción.\n",
        "\n",
        "Cada tubo de reacción debe tener un control negativo de forma que la hidrólisis espontánea del sustrato por efecto del pH, quede descartada. Para esto debe realizar tubos extra con la misma mezcla anterior, pero reemplazando los 100 µl de la dilución de enzima por 100 µl de agua (total de 300 µl de agua y sin enzima) y proceder de igual forma que en el paso anterior. Esta mezcla debe ser realizada para cada pH analizado y corresponderá al blanco y debe ser usado como tal a la hora de realizar las mediciones espectrofotométricas.\n"
      ]
    },
    {
      "cell_type": "code",
      "metadata": {
        "id": "YsWBG8A8qTSd"
      },
      "source": [
        "# Gráfico pH\n",
        "# Recomiendo no cambiar parametros de esta funcion\n",
        "ce.interactive_ph_graph(np.linspace(1, 14, 14*4), ce.fit_micment_ph)"
      ],
      "execution_count": null,
      "outputs": []
    },
    {
      "cell_type": "code",
      "metadata": {
        "id": "VroAqkZfSfzm"
      },
      "source": [
        "# Efecto del pH\n",
        "\n",
        "# En primer lugar se debe leer el archivo que contiene los datos\n",
        "ruta_de_archivo = \"ph_data.csv\"\n",
        "datos_efectoph = pd.read_csv(ruta_de_archivo)\n",
        "\n",
        "datos_efectoph\n",
        "#print(datos)"
      ],
      "execution_count": null,
      "outputs": []
    },
    {
      "cell_type": "code",
      "metadata": {
        "id": "ajg_83ZnSfzq"
      },
      "source": [
        "colores = plt.cm.inferno_r(np.linspace(0.25, 0.75, len(list(datos_efectoph.columns))-1))\n",
        "\n",
        "# Se crea la figura y un objeto ax\n",
        "fig, ax = plt.subplots(figsize=(10,5), dpi=150)\n",
        "\n",
        "# Se realiza un bucle para graficar todos los datos en una misma figura\n",
        "for i in range(1, len(list(datos_efectoph.columns))):\n",
        "    datos_efectoph.plot(\n",
        "        datos_efectoph.columns[0], \n",
        "        datos_efectoph.columns[i], \n",
        "        kind='scatter',\n",
        "        color=colores[i-1],\n",
        "        alpha=0.8,\n",
        "        s=4, \n",
        "        ax=ax,\n",
        "        label=datos_efectoph.columns[i])\n",
        "\n",
        "plt.title(\"Título del Gráfico\")     # Modificar de acuerdo a lo graficado\n",
        "plt.ylabel(\"Nombre de eje Y\")       # Modificar de acuerdo a lo graficado\n",
        "plt.xlabel(\"Nombre de eje X\")       # Modificar de acuerdo a lo graficado\n",
        "\n",
        "# Opciones para ajustar la distribución de objetos en el gráfico\n",
        "# No modificar a menos que desee experimentar!\n",
        "plt.legend(bbox_to_anchor=(1.05, 1), loc=2, borderaxespad=0.)\n",
        "plt.tight_layout()"
      ],
      "execution_count": null,
      "outputs": []
    },
    {
      "cell_type": "code",
      "metadata": {
        "tags": [],
        "id": "E17nOghESfzt"
      },
      "source": [
        "# Ajustar curvas\n",
        "\n",
        "# Datos deben ser transformados a arreglos numpy para ser ajustados\n",
        "# IMPORTANTE: Para cambiar de columna se debe cambiar el índice de datos_y\n",
        "# donde dice datos_efectoph[datos_efectoph.columns[INDICE]]\n",
        "datos_x_ph = datos_efectoph[datos_efectoph.columns[0]].to_numpy()\n",
        "datos_y_ph = datos_efectoph[datos_efectoph.columns[4]].to_numpy()\n",
        "\n",
        "# Como las ecuaciones utilizadas en el modelo necesitan de [H]\n",
        "# se transforman los datos mediante 10**-pH\n",
        "datos_x_transformados = np.power(10, -datos_x_ph)\n",
        "\n",
        "# Se ajustan los datos experimentales a los predecidos por el modelo\n",
        "resultados_ajuste = ce.ajustar_modelo(ce.fit_micment_ph, datos_x_transformados, datos_y_ph)\n",
        "\n",
        "# resultados_ajuste es un diccionario que tiene dos llaves:\n",
        "# \"prediccionesModelo\": la cual corresponde a un arreglo de datos generados por el modelo\n",
        "# \"difDatosModelo\": la cual corresponde a un arreglo de datos y se utilizará para graficar los residuales"
      ],
      "execution_count": null,
      "outputs": []
    },
    {
      "cell_type": "code",
      "metadata": {
        "id": "9_4Z_O9RSfzv"
      },
      "source": [
        "# Veamos qué tan bien se ajusta el modelo a los datos experimentales\n",
        "fig, ax = plt.subplots(figsize=(10,5), dpi=150)\n",
        "\n",
        "# Primero se graficarán los datos experimentales\n",
        "datos_efectoph.plot(\n",
        "        datos_efectoph.columns[0], \n",
        "        datos_efectoph.columns[4], \n",
        "        kind='scatter',\n",
        "        color=\"b\",\n",
        "        alpha=0.4,\n",
        "        s=4, \n",
        "        ax=ax,\n",
        "        label=datos_efectoph.columns[4])\n",
        "\n",
        "# Luego se graficarán los datos obtenidos mediante el modelo\n",
        "ax.plot(\n",
        "    datos_x_ph, \n",
        "    resultados_ajuste[\"prediccionesModelo\"], \n",
        "    color=\"b\", \n",
        "    alpha=0.8,\n",
        "    lw=1.0, \n",
        "    ls=\"--\", \n",
        "    label=\"Ajuste\")\n",
        "\n",
        "plt.legend()\n",
        "plt.title(\"Título del Gráfico\")     # Modificar de acuerdo a lo graficado\n",
        "plt.ylabel(\"Nombre de eje Y\")       # Modificar de acuerdo a lo graficado\n",
        "plt.xlabel(\"Nombre de eje X\")       # Modificar de acuerdo a lo graficado"
      ],
      "execution_count": null,
      "outputs": []
    },
    {
      "cell_type": "markdown",
      "metadata": {
        "id": "sbh13XJCSfzy"
      },
      "source": [
        "## **Preguntas a desarrollar**"
      ]
    },
    {
      "cell_type": "markdown",
      "metadata": {
        "id": "74cnLyLmSfzz"
      },
      "source": [
        "**¿Por qué algunas enzimas tienen actividad máxima a pH básico, mientras que otras a pH ácido? ¿De qué depende esto?**"
      ]
    },
    {
      "cell_type": "markdown",
      "metadata": {
        "id": "oD8QveWgSfzz"
      },
      "source": [
        ""
      ]
    },
    {
      "cell_type": "markdown",
      "metadata": {
        "id": "iXLT0t-wSfz0"
      },
      "source": [
        "**Las enzimas poseen un pH óptimo en el cual se maximiza su actividad, y fuera de este rango pierden actividad rápidamente ¿Qué sucede a nivel estructural/aminoacídico en las enzimas que provoca esta perdida de actividad?**"
      ]
    },
    {
      "cell_type": "markdown",
      "metadata": {
        "id": "_9bQgSoPFxNb"
      },
      "source": [
        ""
      ]
    },
    {
      "cell_type": "markdown",
      "metadata": {
        "id": "L0Oq56CQFxfu"
      },
      "source": [
        "**¿Cómo se puede definir el $pK_a$? ¿Por qué cree que existe un $pK_a$ para la enzima por si sola y otro $pK_a$ para el complejo Enzima-Sustrato? Fundamente su respuesta.**"
      ]
    },
    {
      "cell_type": "markdown",
      "metadata": {
        "id": "VFI7DEpP6JfK"
      },
      "source": [
        ""
      ]
    },
    {
      "cell_type": "markdown",
      "metadata": {
        "id": "iACk9qULSfz1"
      },
      "source": [
        "# **Efecto de la temperatura sobre la tasa de reaccion**\n",
        "Se determinará la velocidad de reacción a diferentes temperaturas y se graficará el porcentaje de actividad relativa en función de la Tº, considerando como 100% la mayor actividad obtenida en este ensayo de temperatura. De esta forma se determinará la temperatura óptima de la enzima. Se utilizarán 5 condiciones de temperatura. \n",
        "\n",
        "Cada tubo contendrá:\n",
        "200 μl de agua\n",
        "100 μl Fosfato 50 mM pH 7.2\n",
        "100 μl de oNPGal 3 mg/ml\n",
        "Luego de mezclar bien, se agrega 100 μl de la dilución de enzima.\n",
        "\n",
        "Al igual que en la actividad anterior, cada tubo de reacción debe tener un control negativo de forma que la hidrólisis espontánea del sustrato por efecto de temperatura quede descartada. Para esto debe realizar tubos extra con la misma mezcla anterior, pero reemplazando los 100 µl de la dilución de enzima por 100 µl de agua (total de 300 µl de agua y sin enzima) y proceder de igual forma que en el paso anterior. Esta mezcla debe ser realizada para cada temperatura y corresponderá al blanco.\n"
      ]
    },
    {
      "cell_type": "code",
      "metadata": {
        "id": "aj6h_Rh7rx_i"
      },
      "source": [
        "# Gráfico Temperatura\n",
        "# Recomiendo no cambiar parametros de esta funcion\n",
        "ce.interactive_temp_graph(np.linspace(273, 383, (383-273)*2), ce.fit_micment_temp)"
      ],
      "execution_count": null,
      "outputs": []
    },
    {
      "cell_type": "code",
      "metadata": {
        "id": "oqq0wi33Sfz1"
      },
      "source": [
        "# Efecto de la temperatura\n",
        "\n",
        "# En primer lugar se debe leer el archivo que contiene los datos\n",
        "ruta_de_archivo = \"temp_data.csv\"\n",
        "datos_efectotemp = pd.read_csv(ruta_de_archivo)\n",
        "\n",
        "datos_efectotemp\n",
        "#print(datos)"
      ],
      "execution_count": null,
      "outputs": []
    },
    {
      "cell_type": "code",
      "metadata": {
        "id": "FoLD0U2lSfz5"
      },
      "source": [
        "colores = plt.cm.viridis_r(np.linspace(0.25, 0.75, len(list(datos_efectotemp.columns))-1))\n",
        "\n",
        "# Se crea la figura y un objeto ax\n",
        "fig, ax = plt.subplots(figsize=(10,5), dpi=150)\n",
        "\n",
        "# Se realiza un bucle para graficar todos los datos en una misma figura\n",
        "for i in range(1, len(list(datos_efectotemp.columns))):\n",
        "    datos_efectotemp.plot(\n",
        "        datos_efectotemp.columns[0], \n",
        "        datos_efectotemp.columns[i], \n",
        "        kind='scatter',\n",
        "        color=colores[i-1],\n",
        "        alpha=0.8,\n",
        "        s=4, \n",
        "        ax=ax,\n",
        "        label=datos_efectotemp.columns[i])\n",
        "\n",
        "plt.title(\"Título del Gráfico\")     # Modificar de acuerdo a lo graficado\n",
        "plt.ylabel(\"Nombre de eje Y\")       # Modificar de acuerdo a lo graficado\n",
        "plt.xlabel(\"Nombre de eje X\")       # Modificar de acuerdo a lo graficado\n",
        "\n",
        "# Opciones para ajustar la distribución de objetos en el gráfico\n",
        "# No modificar a menos que desee experimentar!\n",
        "plt.legend(bbox_to_anchor=(1.05, 1), loc=2, borderaxespad=0.)\n",
        "plt.tight_layout()"
      ],
      "execution_count": null,
      "outputs": []
    },
    {
      "cell_type": "code",
      "metadata": {
        "tags": [],
        "id": "M8niRs1kSfz8"
      },
      "source": [
        "# Ajustar curvas\n",
        "\n",
        "# Datos deben ser transformados a arreglos numpy para ser ajustados\n",
        "# IMPORTANTE: Para cambiar de columna se debe cambiar el índice de datos_y\n",
        "datos_x_temp = datos_efectotemp[datos_efectotemp.columns[0]].to_numpy()\n",
        "datos_y_temp = datos_efectotemp[datos_efectotemp.columns[1]].to_numpy()\n",
        "\n",
        "# Como las ecuaciones utilizadas en el modelo necesitan de Kelvin:\n",
        "datos_x_temp_transformados = np.add(datos_x_temp, 273)\n",
        "\n",
        "# Se ajustan los datos experimentales a los predecidos por el modelo\n",
        "resultados_ajuste = ce.ajustar_modelo(ce.fit_micment_temp, datos_x_temp_transformados, datos_y_temp)\n",
        "\n",
        "# resultados_ajuste es un diccionario que tiene dos llaves:\n",
        "# \"prediccionesModelo\": la cual corresponde a un arreglo de datos generados por el modelo\n",
        "# \"difDatosModelo\": la cual corresponde a un arreglo de datos y se utilizará para graficar los residuales"
      ],
      "execution_count": null,
      "outputs": []
    },
    {
      "cell_type": "code",
      "metadata": {
        "id": "qMeMIbE6Sfz_"
      },
      "source": [
        "# Veamos qué tan bien se ajusta el modelo a los datos experimentales\n",
        "fig, ax = plt.subplots(figsize=(10,5), dpi=150)\n",
        "\n",
        "# Primero se graficarán los datos experimentales\n",
        "datos_efectotemp.plot(\n",
        "        datos_efectotemp.columns[0], \n",
        "        datos_efectotemp.columns[1], \n",
        "        kind='scatter',\n",
        "        color=\"b\",\n",
        "        alpha=0.4,\n",
        "        s=4, \n",
        "        ax=ax,\n",
        "        label=datos_efectotemp.columns[1])\n",
        "\n",
        "# Luego se graficarán los datos obtenidos mediante el modelo\n",
        "ax.plot(\n",
        "    datos_x_temp, \n",
        "    resultados_ajuste[\"prediccionesModelo\"], \n",
        "    color=\"b\", \n",
        "    alpha=0.8,\n",
        "    lw=1.0, \n",
        "    ls=\"--\", \n",
        "    label=\"Ajuste\")\n",
        "\n",
        "plt.legend()\n",
        "plt.title(\"Título del Gráfico\")     # Modificar de acuerdo a lo graficado\n",
        "plt.ylabel(\"Nombre de eje Y\")       # Modificar de acuerdo a lo graficado\n",
        "plt.xlabel(\"Nombre de eje X\")       # Modificar de acuerdo a lo graficado"
      ],
      "execution_count": null,
      "outputs": []
    },
    {
      "cell_type": "markdown",
      "metadata": {
        "id": "xhs4s-CzSf0D"
      },
      "source": [
        "## **Preguntas a desarrollar**"
      ]
    },
    {
      "cell_type": "markdown",
      "metadata": {
        "id": "hrwjSnGtSf0D"
      },
      "source": [
        "**¿Por qué al incrementar la temperatura de una reaccion catalizada por una enzima se observan efectos opuestos?**"
      ]
    },
    {
      "cell_type": "markdown",
      "metadata": {
        "id": "EXqLfRw3Sf0E"
      },
      "source": [
        ""
      ]
    },
    {
      "cell_type": "markdown",
      "metadata": {
        "id": "XIBYWXru-MAJ"
      },
      "source": [
        "**¿La inactivación enzimática por temperatura es reversible o irreversible? Fundamente su respuesta**"
      ]
    },
    {
      "cell_type": "markdown",
      "metadata": {
        "id": "ciCM-w-R-MlN"
      },
      "source": [
        ""
      ]
    },
    {
      "cell_type": "markdown",
      "metadata": {
        "id": "UCrzepvw8IkM"
      },
      "source": [
        "## **Exportar cuadernillo a PDF**"
      ]
    },
    {
      "cell_type": "markdown",
      "metadata": {
        "id": "bb7_y42zD5Nt"
      },
      "source": [
        "### IMPORTANTE: Debido a que el proceso de instalacion es remoto, la ejecución de la primera celda tarda entre 10-15 minutos. (Se recomienda ejecutarla una vez resuelto el cuadernillo y cuando se quiera convertir a PDF)\n",
        "\n",
        "### En caso de obtener errores al convertir el cuadernillo a PDF se recomienda lo siguiente: **Ir a Entorno de ejecución -> Restablecer la configuracion de fabrica del entorno** (no se preocupen ya que el código **no cambia**; piensen de esto como un formateo al sistema operativo). Luego de hacer esto, volver a ejecutar la celda de abajo para una instalación nueva de LaTeX y la última celda para exportar el cuadernillo.\n",
        "\n",
        "**Si esta celda le trae muchos problemas, no la ejecute y guarde el cuadernillo en su carpeta de trabajo (Archivo -> Guardar). Asegurese de que quedó guardado correctamente ingresando a su carpeta y viendo la última fecha y hora de modificación.**"
      ]
    },
    {
      "cell_type": "code",
      "metadata": {
        "id": "LyR8Fsz6X0Jw"
      },
      "source": [
        "%%capture out\n",
        "\n",
        "# Instala paquetes necesarios para renderizar LaTeX\n",
        "!apt-get install texlive-full\n",
        "!apt-get install pandoc\n",
        "!apt-get install texlive-xetex\n",
        "\n",
        "# Instala paquetes necesarios para convertir a PDF\n",
        "!pip install metakernel\n",
        "!pip install jupyterlab\n",
        "!pip install jupyterlab_latex\n",
        "!pip install nbconvert\n",
        "\n",
        "import nbconvert"
      ],
      "execution_count": null,
      "outputs": []
    },
    {
      "cell_type": "code",
      "metadata": {
        "id": "mXBtZOoVNAtG"
      },
      "source": [
        "# Instala extensiones para widgets interactivos\n",
        "!pip2.7 install https://github.com/ipython-contrib/jupyter_contrib_nbextensions/tarball/master\n",
        "!jupyter contrib nbextension install --system \n",
        "!jupyter nbextension enable --py widgetsnbextension"
      ],
      "execution_count": null,
      "outputs": []
    },
    {
      "cell_type": "code",
      "metadata": {
        "id": "erJcFq3JsZZV"
      },
      "source": [
        "# Importar nbconvert para convertir a PDF su cuadernillo\n",
        "import nbconvert\n",
        "!jupyter nbconvert \"/content/drive/Shared drives/GC_Cinética - Alejandro Aravena/Cinetica_Enzimatica_1.ipynb\" --to pdf"
      ],
      "execution_count": null,
      "outputs": []
    }
  ]
}
