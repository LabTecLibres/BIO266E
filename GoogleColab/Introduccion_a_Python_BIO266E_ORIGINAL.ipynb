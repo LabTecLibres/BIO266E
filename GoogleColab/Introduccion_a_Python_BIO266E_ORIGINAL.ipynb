{
  "nbformat": 4,
  "nbformat_minor": 0,
  "metadata": {
    "kernelspec": {
      "display_name": "Python 3",
      "language": "python",
      "name": "python3"
    },
    "language_info": {
      "codemirror_mode": {
        "name": "ipython",
        "version": 3
      },
      "file_extension": ".py",
      "mimetype": "text/x-python",
      "name": "python",
      "nbconvert_exporter": "python",
      "pygments_lexer": "ipython3",
      "version": "3.7.7"
    },
    "colab": {
      "name": "AA_Introduccion_a_Python_BIO266E.ipynb",
      "provenance": [],
      "collapsed_sections": []
    }
  },
  "cells": [
    {
      "cell_type": "markdown",
      "metadata": {
        "id": "Wfs2QDhC7Zxt"
      },
      "source": [
        "# **Introducción a Python - BIO266E**"
      ]
    },
    {
      "cell_type": "markdown",
      "metadata": {
        "id": "bL8Kxh8Q7Zxw"
      },
      "source": [
        "# *Tabla de Contenidos*\n",
        "1. [Bioquímica y Programación](#punto1)\n",
        "2. [¿Por qué?](#punto2)\n",
        "3. [Conceptos básicos de Python](#punto3)\n",
        "    1. [Tipos de datos](#subpunto3_1)\n",
        "    2. [Comentarios utilizando ```#```](#subpunto3_2)\n",
        "    3. [Función ```print()```](#subpunto3_3)\n",
        "    4. [Variables](#subpunto3_4)\n",
        "    5. [Listas](#subpunto3_5)\n",
        "    6. [Indentación del código (¿```tab``` o ```spaces```?)](#subpunto3_6)\n",
        "4. [Condicionales, bucles y funciones](#punto4)\n",
        "    1. [Expresiones de condición (```if```, ```elif``` y ```else```)](#subpunto4_1)\n",
        "    2. [Uso de bucles (```while``` y ```for```)](#subpunto4_2)\n",
        "    3. [Definición y uso de funciones](#subpunto4_3)\n",
        "5. [Datos y Gráficos](#punto5)\n",
        "    1. [Pandas](#subpunto5_1)\n",
        "    2. [Numpy](#subpunto5_2)\n",
        "    3. [Matplotlib](#subpunto5_3)\n",
        "6. [Google Drive y PDF](#punto6)\n",
        "    1. [Google Drive](#subpunto6_1)\n",
        "    2. [PDF](#subpunto6_2)"
      ]
    },
    {
      "cell_type": "markdown",
      "metadata": {
        "id": "0sPnbMdz7Zxx"
      },
      "source": [
        "## 1. Bioquímica y Programación <a name=\"punto1\"></a>"
      ]
    },
    {
      "cell_type": "markdown",
      "metadata": {
        "id": "0um0G0Tn7Zxy"
      },
      "source": [
        "<p align=\"center\">\n",
        "  <img src=\"https://github.com/AlejoArav/BIO266E/blob/master/imgs/via_y_diag_1.png?raw=true\">\n",
        "</p>"
      ]
    },
    {
      "cell_type": "markdown",
      "metadata": {
        "id": "4UmIWBwo7Zxy"
      },
      "source": [
        "### ¿Qué *similitudes* se pueden observar entre las dos imágenes?<a name=\"subpunto1\"></a>\n",
        "\n",
        "- Podemos identificar un vocabulario de **palabras**, **abreviaciones** y **símbolos**. Cada compuesto tiene un **nombre** específico, el cual depende de ciertas propiedades que posea. Los **símbolos** utilizados determinan la direccionalidad de la reacción, o si el compuesto que reacciona se encuentra reducido, oxidado, ionizado o posee alguna propiedad específica.\n",
        "\n",
        "- Existe una determinada **sintaxis** de la vía. Esto significa que para llegar a un determinado producto, **se debe seguir una serie de reacciones en un órden determinado**. Al cambiar componentes de la vía es posible que no se pueda llevar a cabo, o que se obtenga un producto distinto.\n",
        "\n",
        "- Una **secuencia de operaciones** que se deben realizar en un orden determinado. Cada reacción depende de cambios moleculares de cada compuesto involucrado, y si no se llevan a cabo correctamente se detiene la reacción.\n",
        "\n",
        "- Si observaramos estas vías metabólicas durante un tiempo, muchas de ellas se **llevarían a cabo varias veces** (como un **bucle**).\n",
        "\n",
        "- En muchas ocaciones se requerirá que una vía determinada requiera de un producto que depende de otra vía, lo que se podría considerar como una **función**\n",
        "\n",
        "- Cada compuesto puede considerarse como un **dato** que será **utilizado, creado o modificado**.\n",
        "\n",
        "- Existen **herramientas** que son utilizadas para trabajar con los datos descritos anteriormente, tal como enzimas, catalizadores, co-factores, entre otras.\n",
        "\n",
        "- Finalmente, se espera un resultado. Un conjunto de reacciones dará lugar a un determinado compuesto, el cual podrá ser utilizado por otras reacciones como sustrato o como co-factor o quizás inhibe la reacción."
      ]
    },
    {
      "cell_type": "markdown",
      "metadata": {
        "id": "gZldFBog7Zxz"
      },
      "source": [
        "## 2. ¿Por qué? <a name=\"punto2\"></a>"
      ]
    },
    {
      "cell_type": "markdown",
      "metadata": {
        "id": "YQcuAug07Zxz"
      },
      "source": [
        "**¿Por qué Python?**\n",
        "\n",
        ">Parte del éxito de Python en el ámbito científico es la facilidad con la que se puede integrar código desarrollado en otros lenguajes de programación más especializados, como C, C++ o FORTRAN. Debido a que python permite el uso de **módulos** (código publicado con funciones específicas), es posible integrar código escrito en C o FORTRAN donde los algoritmos para realizar operaciones algebraicas, diferenciales/integrales, transformadas de Fourier entre otras se ejecutan con mayor velocidad, a un código escrito en Python.\n",
        "\n",
        ">En el ámbito educacional es considerado uno de los lenguajes de excelencia para aprender a programar. Esto se debe principalmente a la manera en la que fue diseñado, ya que es **legible** y **escribible**. El ser un programa legible lo hace factible para programación colaborativa, ya que un programa computacional puede que sea escrito por una persona o un equipo pequeño de personas, pero debe ser leído y revisado por varias; el ser legible facilita la revisión, corrección y mejoramiento del programa, ya que se hace relativamente sencillo plantear en código lo que se quiere lograr (**escribible**).\n",
        "\n",
        "\n",
        "**¿Por qué *no* Python?**\n",
        "\n",
        ">Quizás la razón más aceptada es que Python no es el mejor lenguaje para utilizar en todas las situaciones. Si bien es lo suficientemente rápido para la mayoría de las aplicaciones, no lo será para todas. Si un programa depende mayoritariamente de la CPU (utilizado en cálculos), al escribirlo y ejecutarlo en C, C++, C#, o Java (entre otros lenguajes) seguramente se obtendrá un tiempo menor de ejecución. En la sección superior se explica que existen módulos que le añaden funcionalidades de C, Java o FORTRAN a Python, sin emabrgo, no logran ser más eficientes que el lenguaje natural para el cual fueron diseñados.\n",
        "\n",
        "**¿Por qué Jupyter?**\n",
        "\n",
        ">Jupyter fue desarrollado basándose en el proyecto ```IPython```, el cual a su vez fue desarrollado como una versión mejorada del interpretador de Python con funcionalidades pensadas en científiques.\n",
        "\n",
        ">Jupyter es una herramienta *gratis y de código abierto* implementada como cuadernillos computacionales, mediante los cuales es posible combinar el código escrito, los resultados arrojados por el código, texto explicativo y recursos multimedia en un solo documento. Además, en el ámbito educativo son utilizados exhaustivamente ya que poseen la cualidad de ser *interactivos*, lo que permite ejecutar código, ver resultados, modificar  el código, ver resultados en lo que se convierte en una conversación entre el investigador y los datos. Un cuadernillo tiene dos componentes. Los usuarios escriben código o texto en *celdas rectangulares* en una página con interfaz gráfica. Al ejecutar las celdas, el código es derivado a un 'kernel' que corre el código y le devuelve al usuario un resultado.\n",
        "\n",
        "Existen servicios (como **Binder** o **Google Colab**) que le permiten a los usuarios utilizar cuadernillos Jupyter directamente en un navegador web, sin necesidad de instalar el software o librerias de programación."
      ]
    },
    {
      "cell_type": "code",
      "metadata": {
        "id": "_MfY8b0RJEi9"
      },
      "source": [
        ""
      ],
      "execution_count": null,
      "outputs": []
    },
    {
      "cell_type": "markdown",
      "metadata": {
        "id": "jlFfnpas7Zx0"
      },
      "source": [
        "## ***Info: Uso de cuandernillos Jupyter (en Google Colab)*** <a name=\"informacion_jupyter\"></a>\n",
        "\n",
        "De aquí en adelante se encontrarán celdas que contienen código. Este codigo puede ser utilizado, modificado e incluso eliminado (sin embargo, para este cuadernillo en particular no se recomienda esto último). Para poder ejecutar el código en una celda, debe hacer click en ```[]``` (al lado izquierdo de la celda) y luego en el símbolo de \"Play\". También es posible **presionar ```Shift + Enter``` en su teclado** o, si se prefiere, ir a la barra de herramientas, buscar ```Entorno de ejecución``` y se desplegará una lista de opciones de ejecución.\n",
        "\n",
        "**IMPORTANTE**: Al finalizar la ejecución del código contenido en una celda particular, se mostrará un número entre brackets en la barra lateral izquierda (```[numero]```). Solamente cuando aparezca este número se habrá ejecutado la celda.\n",
        "\n",
        "Al ejecutar la primera celda que contenga código, se inicia un *kernel* computacional. Este último puede pensarse como un motor computacional que actuará como traductor del código ejecutado. **Cada kernel consume una cantidad determinada de memoria RAM, sin embargo, este cuadernillo se encuentra alojado en los servidores de Google Cloud, los cuales destinan una determinada cantidad de RAM (además de una GPU o TPU) a cada cuadernillo** (esto para que se ejecute todo en igualdad de condiciones).\n",
        "\n",
        "A continuación se detallan las indicaciones a seguir en caso de problemas/errores:\n",
        "\n",
        "* *El cuadernillo se queda pegado en una celda de código*:\n",
        "    * Localizar ```Entorno de ejecución``` en la barra superior, y hacer click en ```Interrumpir ejecución```. Esto interrumpe la acción que haya estado llevandose a cabo en el kernel actual. La otra opción es nuevamente ir a ```Entorno de ejecución``` y hacer click en ```Reiniciar entorno de ejecución```, lo cual reinicia el kernel (se debe tener en cuenta que todas las variables definidas previo al reinicio serán **perdidas**).\n",
        "\n",
        "* *Errores de nombres o variables no definidas*:\n",
        "    * Generalmente estos errores aparecen luego de reiniciar y/o interrumpir el kernel. Lo recomendable para resolverlos es ejecutar todas las celdas previas a la de interés.\n",
        "\n",
        "***Tips***\n",
        "\n",
        "* Insertar celda abajo: Habiendo seleccionado una celda, presionar una vez la tecla ```b``` o seleccionar ```Insertar código/texto``` desde la barra superior.\n",
        "\n",
        "* Eliminar celda seleccionada: Para eliminar una celda seleccionada, presionar dos veces seguidas la tecla ```d``` o seleccionar ```Insertar código/texto``` desde la barra superior.\n",
        "\n",
        "* Google Colab da la opción de añadir fácilmente celdas poniendo el cursor sobre la parte **superior** o **inferior** de cada celda. Al hacer esto, aparecen dos opciones: ```+ Código``` y ```+ Texto```, las cuales permiten añadir celdas del formato seleccionado."
      ]
    },
    {
      "cell_type": "code",
      "metadata": {
        "id": "-FCCVb5JJB7M"
      },
      "source": [
        ""
      ],
      "execution_count": null,
      "outputs": []
    },
    {
      "cell_type": "markdown",
      "metadata": {
        "id": "UH9SXcuy7Zx1"
      },
      "source": [
        "## 3. Conceptos básicos de Python <a name=\"punto3\"></a>"
      ]
    },
    {
      "cell_type": "markdown",
      "metadata": {
        "id": "AnTO0rvz7Zx2"
      },
      "source": [
        "### 3.1 Tipos de datos <a name=\"subpunto3_1\"></a>"
      ]
    },
    {
      "cell_type": "markdown",
      "metadata": {
        "id": "89aXXkYF7Zx2"
      },
      "source": [
        "A continuación se ilustran algunos de los tipos de datos que se utilizan en python. Los tipos de datos son clasificaciones o categorizaciones de (valga la redundancia) datos que son incorporados en un programa. Son una cualidad que se les otorga y *le permite al interpretador de python saber qué tipo de operaciones se pueden realizar con dichos datos*."
      ]
    },
    {
      "cell_type": "markdown",
      "metadata": {
        "id": "dRmc01c37Zx3"
      },
      "source": [
        "| Nombre         | Tipo          | Descripción                                                                                                                                                                                                                                                                                                                                                                                                                        | Ejemplo                                                  | Mutable? |\n",
        "|----------------|---------------|------------------------------------------------------------------------------------------------------------------------------------------------------------------------------------------------------------------------------------------------------------------------------------------------------------------------------------------------------------------------------------------------------------------------------------|----------------------------------------------------------|----------|\n",
        "| Booleano       | ```bool```    | Más adelante se trabajará con expresiones evaluadas en<br>un contexto Booleano, es decir, son evaluadas como <br>verídicas o falsas. El tipo de dato resultante de<br>la evaluación de la expresión es Booleano.                                                                                                                                                                                                                   | ```True, False```                                        | No       |\n",
        "| Entero         | ```int```     | Tipo de dato numérico. Puede ser cualquier número entero <br>positivo o negativo. No hay un límite de qué tan grande sea<br>el entero (exceptuando el límite de la memoria disponible)                                                                                                                                                                                                                                             | ```47, 1000```                                           | No       |\n",
        "| Punto Flotante | ```float```   | Tipo de dato numérico. Los valores de punto flotante se<br>caracterizan por su **punto decimal**. De manera opcional,<br>se puede adjuntar la letra e o E seguida de un entero positivo<br>o negativo al final del decimal para especificar *notación científica*                                                                                                                                                                  | ```2.71, 3.14, 10.2e2```                                 | No       |\n",
        "| Complejo       | ```complex``` | Tipo de dato numérico. Se representa como ```parte real + parte imaginaria```.                                                                                                                                                                                                                                                                                                                                                     | ```7j, 1 + 5j```                                         | No       |\n",
        "| String         | ```str```     | El texto o ```String``` se considera una secuencia de uno o más caracteres<br>dentro de comillas simples, dobles o triples. Debido a que este tipo de dato<br>es considerado una secuencia, es posible acceder a uno de los caracteres<br>utilizando el *indexado*                                                                                                                                                                 | ```'hola', \"que\", '''tal'''```                           | No       |\n",
        "| Lista          | ```list```    | Secuencia ordenada de objetos. Las listas funcionan de manera similar a los<br>```strings```, ya que es posible acceder a los componentes de la lista <br>utilizando el *indexado*. A diferencia de los ```strings```, las listas <br>*permiten modificar los elementos que almacenan*. Por ejemplo, a la derecha <br>se tiene una lista con 4 elementos, y es posible acceder al elemento \"Uno\"<br>y modificarlo por el numero 1. | ```['Uno', 2, 'Tres', 4j]```                             | Si       |\n",
        "| Tuple          | ```tuple```   | Secuencia ordenada de objetos. A diferencia de las listas, los ```tuples```<br>son objetos **inmutables** (su contenido no puede ser modificado). Son utilizados<br>en ocasiones en las cuales se deben proteger los datos contra escritura y<br>al ser inmutables, su creación e indexación es más rápida que las listas.                                                                                                         | ```(3, 9, 27)```                                         | No       |\n",
        "| Set            | ```set```     | Secuencia no ordenada de objetos *únicos*. Los sets se definen por valores<br>separados por comas dentro de brackets (```{ }```). También pueden ser <br>generados a partir de listas utilizando la función ```set(lista)```. Al estar<br>definidos como una colección de objetos únicos, no contienen valores repetidos.                                                                                                          | ```set([1, 3, 5])```                                     | Si       |\n",
        "| Diccionario    | ```dict```    | Secuencia no ordenada de pares **llave-valor**. Son utilizados cuando se trabaja<br>con una cantidad grande de datos. Los diccionarios de python están optimizados<br>para recuperar datos rápidamente (para recuperar los datos es necesario<br>conocer la *llave* a la cual se encuentran asociados).                                                                                                                            | ```{'nombre': 'Firulais', 'tipo': 'perro', 'edad': 7}``` | Si       |"
      ]
    },
    {
      "cell_type": "markdown",
      "metadata": {
        "id": "BVqNKv447Zx3"
      },
      "source": [
        "Algunos tipos de datos pueden interactuar entre si y con otros, mientras que algunos solamente pueden interactuar entre si. Algunas de las operaciones que se utilizan para llevar a cabo estas interacciones se detallan a continuación."
      ]
    },
    {
      "cell_type": "markdown",
      "metadata": {
        "id": "UJtOyqNH7Zx4"
      },
      "source": [
        "|          Operador         |    Descripción    |        Ejemplo       |  Resultado  |\n",
        "|:-------------------------:|:-----------------:|:--------------------:|:-----------:|\n",
        "|      **Aritméticos**      |                   |                      |             |\n",
        "|          ```+```          |        Suma       |      ```1 + 2```     |   ```3```   |\n",
        "|          ```-```          |       Resta       |      ```2 - 1```     |   ```1```   |\n",
        "|          ```-```          |      Negación     |       ```-7```       |   ```-7```  |\n",
        "|          ```*```          |   Multiplicación  |       ```2*4```      |   ```8```   |\n",
        "|          ```**```         |     Exponente     |      ```2**6```      |   ```64```  |\n",
        "|          ```/```          |      División     |       ```4/2```      | *```2.0```* |\n",
        "|          ```//```         |  División Entera  |      ```5//2```      |   ```2```   |\n",
        "|          ```%```          |       Módulo      |       ```5%2```      |   ```1```   |\n",
        "| **Lógicos y de Relación** |                   |                      |             |\n",
        "|          ```==```         |    Equivalencia   |  ```5 == 3``` | ```False``` |\n",
        "|          ```!=```         |     Diferencia    |  ```5 != 3``` |  ```True``` |\n",
        "|          ```<```          |     Menor que     |      ```5 < 3```     | ```False``` |\n",
        "|          ```>```          |     Mayor que     |      ```5 > 3```     |  ```True``` |\n",
        "|          ```<=```         | Menor o igual que |     ```5 <= 3```     | ```False``` |\n",
        "|          ```>=```         | Mayor o igual que |     ```5 >= 5```     |  ```True``` |\n",
        "|         ```and```         | ¿Se cumple a y b? | ```5 == 3 and 5 != 3``` | ```False``` |\n",
        "|          ```or```         | ¿Se cumple a o b? |  ```5 == 3 or 5 != 3``` |  ```True``` |\n",
        "|         ```not```         |     Opuesto de    |    ```not 5 != 3```    | ```False``` |"
      ]
    },
    {
      "cell_type": "markdown",
      "metadata": {
        "id": "4jPsL0Ao7Zx4"
      },
      "source": [
        "### 3.2 Comentarios en el código utilizando ```#``` <a name=\"subpunto3_2\"></a>"
      ]
    },
    {
      "cell_type": "markdown",
      "metadata": {
        "id": "PzJ8QMsb7Zx5"
      },
      "source": [
        "El código escrito al programar es básicamente los pensamientos que une como persona hace para resolver problemas utilizando un computador. Sin embargo, un mismo problema puede resolverse de distintas formas, o incluso de la misma forma con lógica distinta. Para esto sirven los **comentarios**; un conjunto de palabras **que no son consideradas código ejecutable** y ayudan a explicar el proceso cognitivo, para que de esta manera sea más fácil comprender el código. Los comentarios también son útiles para la detección y corrección de errores.\n",
        "\n",
        "Una línea en forma de comentario comienza con el símbolo conocido como la almohadilla, hash o gato ```#``` y le sigue el texto que contiene la explicación o descripción. A continuación se illustran distintas maneras de escribir un comentario.\n",
        "\n",
        "* *Importante*: Un símbolo ```#``` dentro de un texto en formato ```str``` **NO** es considerado comentario, sino parte del texto."
      ]
    },
    {
      "cell_type": "markdown",
      "metadata": {
        "id": "PzS0CkvD7Zx5"
      },
      "source": [
        "*** Desde este punto en adelante se encontraran celdas interactivas. Estas celdas pueden ser ejecutadas (recordar cómo se ejecutan las celdas, explicado [aquí](#informacion_jupyter)), modificadas e incluso eliminadas. Esto último no se recomienda, sin emabargo, se invita a la modificación de ciertos parámetros! ***"
      ]
    },
    {
      "cell_type": "code",
      "metadata": {
        "id": "z2p71KQl7Zx6"
      },
      "source": [
        "# Este es un comentario de una línea\n",
        "# Estos generalmente tienen un máximo de 80 caracteres\n",
        "\n",
        "# Para escribir comentarios de varias líneas es posible utilizar\n",
        "# el símbolo hash en líneas distintas. Python no soporta comentarios\n",
        "# de muchas líneas por defecto, pero existen formas de hacer un \n",
        "# bypass a esto.\n",
        "\n",
        "'''\\\n",
        "Otra manera de escribir un comentario (generalmente como documentación de una función), \\n\n",
        "es entre líneas que contengan 3 comillas. Este bloque de texto que se \\n\n",
        "escriba se considera un 'comentario' por la comunidad, aunque oficialmente no sea \\n\n",
        "considerado como tal. Como se observa, no es necesario utilizar el hash para iniciar \\n\n",
        "el comentario en cada línea, y el comentario puede tener tantas líneas como se necesite \\n\n",
        "(aunque no se recomiendan muchas).\\\n",
        "'''\n",
        "\n",
        "# En caso de querer escribir un comentario entre tres comillas y necesitar escribir más\n",
        "# de una línea, es necesario utilizar el backslash (\\) para que el interpretador de python\n",
        "# sepa que NO finaliza el parrafo ahí. Si no se realiza esto, es posible que se agregue\n",
        "# automáticamente un carácter de \"nueva línea\", quebrando la continuidad del texto"
      ],
      "execution_count": null,
      "outputs": []
    },
    {
      "cell_type": "markdown",
      "metadata": {
        "id": "cEy8XO7L7Zx_"
      },
      "source": [
        "### 3.3 Función ```print()``` <a name=\"subpunto3_3\"></a>"
      ]
    },
    {
      "cell_type": "markdown",
      "metadata": {
        "id": "CcvhXCaP7Zx_"
      },
      "source": [
        "Antes de comenzar a escribir cualquier programa es necesario explicar en la funcionalidad de una de las funciones más importante que se utiliza en python:\n",
        "```python\n",
        "print(valor1, valor2, ..., sep=' ', end='\\n', file=sys.stdout)\n",
        "```\n",
        "Donde:\n",
        "- ```valor1, valor2, ..., valorN``` : Corresponden a los tipos de datos que serán impresos.\n",
        "- ```sep``` : Es el separador a utilizar entre los distintos valores a imprimir (un espacio por defecto)\n",
        "- ```file``` : Corresponde a un **archivo** donde se guardará el resultado de la función (por defecto no se guarda y solamente imprime en pantalla)\n",
        "\n",
        "La función ```print()``` es una función que, tal como su nombre lo indica, ***imprime en la consola un mensaje especificado por le usuarie***. Este mensaje puede contener cualquier objeto interpretable por Python, y esta función se encargará de formatearlo para mostrarlo en pantalla. Es una de las herramientas más útiles en el lenguaje de python, ya que permite depurar los programas escritos (encontrar, arreglar y/o remover errores dentro del código). Además, permite al usuario tener cierto feedback de lo que el programa está ejecutando en un momento dado.\n",
        "\n",
        "A continuación se muestran algunos ejemplos de uso de la función ```print()```."
      ]
    },
    {
      "cell_type": "code",
      "metadata": {
        "scrolled": false,
        "tags": [],
        "id": "7-pS1Mki7ZyA"
      },
      "source": [
        "# Importante:\n",
        "\n",
        "# Al utilizar la función print en reiteradas ocaciones se notarán dos cosas:\n",
        "#\n",
        "#   1. Cada vez que se imprime algo nuevo con la función se imprime en la\n",
        "#      la línea inmediatamente debajo de la anterior. En caso de querer aumentar\n",
        "#      la legibilidad y poner una línea vacía entre dos resultados se debe\n",
        "#      utilizar el backslash (\\) seguido de la letra \"n\". Esto le indica a\n",
        "#      python que debe imprimir lo que sigue a \"\\n\" en una linea nueva.\n",
        "\n",
        "#   2. Es posible que se acumulen rápidamente el texto impreso, por lo que es conveniente\n",
        "#      limitar la cantidad de lineas impresas. Esto es posible mediante el siguiente comando:\n",
        "#      IPython.display.clear_output(wait=True)\n",
        "#      El cual limpia el output impreso.\n",
        "# ----------------------------\n",
        "\n",
        "# La función print permite input en forma de cualquiera de los tipos de variables\n",
        "print('Yo imprimo cosas', '\\n')\n",
        "\n",
        "# Permite unir texto en forma de strings utilizando el operador aritmético '+'\n",
        "print('Esto será'+' un solo'+' texto', '\\n')\n",
        "\n",
        "# También es posible imprimir una varios tipos de datos juntos, utilizando comas entre ellos\n",
        "# En caso de que la línea sea demasiado larga, se puede continuar en la siguiente\n",
        "# utilizando el símbolo de backslash \\\n",
        "print('Para imprimir el numero', 3, 'es necesario utilizar una coma. \\\n",
        "También puedo imprimir', 3.0, 'como punto flotante. O bien escribir 3 dentro del string', '\\n')\n",
        "\n",
        "# Es posible formatear el texto a imprimir utilizando brackets curvos '{}'\n",
        "numero = 5\n",
        "print('Puedo imprimir un numero {} de esta forma'.format(numero))           # En este caso se imprime un número que fue asignado previamente\n",
        "print('O imprimirlo así {numero}'.format(numero=10))                        # En este caso se imprime un número asignado en la misma función"
      ],
      "execution_count": null,
      "outputs": []
    },
    {
      "cell_type": "markdown",
      "metadata": {
        "id": "YPDy25_T7ZyD"
      },
      "source": [
        "### 3.4 Variables <a name=\"subpunto3_4\"></a>"
      ]
    },
    {
      "cell_type": "markdown",
      "metadata": {
        "id": "RlurZu9_7ZyD"
      },
      "source": [
        "Un concepto clave en los lenguajes de computación son las **variables**. Python, como la mayoría de los lenguajes computacionales, permiten definir variables, que son *nombres que se le asignan a valores en la memoria computacional*. Existen ciertas reglas para definir variables, las que se resumen en la siguiente lista:\n",
        "- Sólo pueden conetener los siguientes caracteres:\n",
        "<br/><br/>\n",
        "    * Letras minúsculas (```a - z```)\n",
        "    * Letras mayúsculas (```A - Z```)\n",
        "    * Dígitos (```0 - 9```)\n",
        "    * Guión bajo (```_```)\n",
        "<br/><br/>\n",
        "- Distinguen entre **mayúsculas y minúsculas**: ```Primera_Variable``` no es lo mismo que ```PRIMERA_VARIABLE```.\n",
        "- No pueden comenzar con un **dígito** (No se puede utilizar el nombre de variable ```5_nombre``` por ejemplo).\n",
        "- Nombres de variables que comiencen con un **guión bajo** se trataran de manera diferente (no se profundizará en esto durante la introducción).\n",
        "- No pueden ser ninguna de las *palabras reservadas* de python (el código ```help('keywords')``` retorna una lista de las palabras reservadas).\n",
        "\n",
        "Una vez que se escoge un nombre de variable que cumpla con todos los requisitos, se debe *asignar* un valor a esta variable. Para hacer esto, se ocupa el símbolo ```=```, y al correr el código, el programa interpreta lo escrito como *asigna el valor de la derecha a la variable de la izquierda*.\n",
        "\n",
        "```python\n",
        "nombre_variable = valor_asignado   # Utilizando underscore_parts\n",
        "nombreVariable = valor_asignado    # Utilizando camelCase\n",
        "```\n",
        "\n",
        "A continuación se muestra la asignación de diferentes valores y tipos de datos que se utilizan en python a variables."
      ]
    },
    {
      "cell_type": "code",
      "metadata": {
        "id": "tuUgEnpQ7ZyE"
      },
      "source": [
        "# Formatea con color y añade distintos formatos al texto retornado por print()\n",
        "class color:\n",
        "    MORADO = '\\033[95m'\n",
        "    CELESTE = '\\033[96m'\n",
        "    CELESTE_OSCURO = '\\033[36m'\n",
        "    AZUL = '\\033[94m'\n",
        "    VERDE = '\\033[92m'\n",
        "    AMARILLO = '\\033[93m'\n",
        "    ROJO = '\\033[91m'\n",
        "    NEGRITA = '\\033[1m'\n",
        "    SUBRAYADO = '\\033[4m'\n",
        "    FIN = '\\033[0m'"
      ],
      "execution_count": null,
      "outputs": []
    },
    {
      "cell_type": "code",
      "metadata": {
        "tags": [],
        "id": "J50vOuUC7ZyI"
      },
      "source": [
        "# Ejemplo de entero\n",
        "soy_un_numero = 1\n",
        "print(color.NEGRITA+'Acá se asigna el nombre de variable soy_un_numero al entero 1\\n'+color.FIN)\n",
        "print(\"La variable soy_un_numero es igual a :\",\n",
        "      soy_un_numero, \n",
        "      '\\n',\n",
        "      \"Es de tipo :\", \n",
        "      type(soy_un_numero), \n",
        "      '\\n',\n",
        "      \"Se puede verificar si tiene valor booleano :\",\n",
        "      bool(soy_un_numero), \n",
        "      '\\n')\n",
        "\n",
        "# Ejemplo de texto\n",
        "soy_texto = '1'\n",
        "print(color.NEGRITA+'Acá se asigna el nombre de variable soy_texto a un texto que contiene el número 1\\n'+color.FIN)\n",
        "print(\"La variable soy_texto es igual a :\",\n",
        "      soy_texto, \n",
        "      '\\n', \n",
        "      \"Es de tipo :\",\n",
        "      type(soy_texto), \n",
        "      '\\n', \n",
        "      \"Se puede verificar si tiene valor booleano :\",\n",
        "      bool(soy_texto), \n",
        "      '\\n')\n",
        "\n",
        "# Ejemplo de flotante\n",
        "soy_flotante = 1.0\n",
        "print(color.NEGRITA+'Acá se asigna el nombre de variable soy_flotante al número 1 en forma decimal\\n'+color.FIN)\n",
        "print(\"La variable soy_flotante es igual a :\",\n",
        "      soy_flotante, \n",
        "      '\\n',\n",
        "      \"Es de tipo :\", \n",
        "      type(soy_flotante), \n",
        "      '\\n', \n",
        "      \"Se puede verificar si tiene valor booleano :\",\n",
        "      bool(soy_flotante), \n",
        "      '\\n')\n",
        "\n",
        "# Ejemplo de lista\n",
        "soy_una_lista = [soy_un_numero, soy_texto, soy_flotante]\n",
        "print(color.NEGRITA+'Acá se asigna el nombre de variable soy_una_lista a una lista compuesta por las tres variables definidas previamente\\n'+color.FIN)\n",
        "print(\"La variable soy_una_lista es igual a :\",\n",
        "      soy_una_lista, \n",
        "      '\\n',\n",
        "      \"Es de tipo :\", \n",
        "      type(soy_una_lista), \n",
        "      '\\n',\n",
        "      \"Se puede verificar si tiene valor booleano :\", \n",
        "      bool(soy_una_lista), \n",
        "      '\\n')\n",
        "\n",
        "# Ejemplo de tuple\n",
        "soy_un_tuple = (soy_un_numero, soy_texto, soy_flotante)\n",
        "print(color.NEGRITA+'Acá se asigna el nombre de variable soy_un_tuple a un tuple compuesto por las tres variables definidas previamente\\n'+color.FIN)\n",
        "print(\"La variable soy_un_tuple es igual a :\",\n",
        "      soy_un_tuple, \n",
        "      '\\n', \n",
        "      \"Es de tipo :\",\n",
        "      type(soy_un_tuple), \n",
        "      '\\n', \n",
        "      \"Se puede verificar si tiene valor booleano :\",\n",
        "      bool(soy_un_tuple), \n",
        "      '\\n')\n",
        "\n",
        "# Ejemplo de diccionario\n",
        "soy_un_diccionario = {'numero': soy_un_numero, 'texto': soy_texto, 'flotante': soy_flotante}\n",
        "print(color.NEGRITA+'Acá se asigna el nombre de variable soy_un_diccionario a un diccionario compuesto por las tres variables definidas previamente\\n'+color.FIN)\n",
        "print(\"La variable soy_un_diccionario es igual a :\",\n",
        "      soy_un_diccionario, \n",
        "      '\\n', \n",
        "      \"Es de tipo :\",\n",
        "      type(soy_un_diccionario), \n",
        "      '\\n', \n",
        "      \"Se puede verificar si tiene valor booleano :\",\n",
        "      bool(soy_un_diccionario), \n",
        "      '\\n')"
      ],
      "execution_count": null,
      "outputs": []
    },
    {
      "cell_type": "markdown",
      "metadata": {
        "id": "x_PtGfDy7ZyK"
      },
      "source": [
        "### 3.5 Listas <a name=\"subpunto3_5\"></a>"
      ]
    },
    {
      "cell_type": "markdown",
      "metadata": {
        "id": "uLeshJxq7ZyL"
      },
      "source": [
        "Las listas en python son útiles para almacenar datos que requieren de un cierto orden, especialmente si el orden y el contenido está sujeto a cambios. Las listas son un ejemplo de tipos de datos *mutables*. Se pueden agregar, sacar, reemplazar o cambiar elementos, además de permitir repeticiones de un mismo elemento (en otras estructuras de datos no se permite esto último). Las listas pueden crearse vacías, o partir de un elemento iterable (como un string u otra lista). \n",
        "\n",
        "En la tabla que sigue se especifican algunos métodos (funciones propias) de las listas:\n",
        "\n",
        "| Método | Acción |\n",
        "|:-:|:-:|\n",
        "| ```lista.append(elemento)``` | Añade **un solo elemento** al final de la lista.<br>Un error común es esperar que se retorne una <br>nueva lista, sin embargo la lista es modificada<br>\"en su lugar\".  |\n",
        "| ```lista.insert(indice, elemento)``` | Inserta el elemento en el índice indicado, moviendo<br>todos los elementos que le siguen hacia la derecha. |\n",
        "| ```lista.extend(lista2)``` | Extiende la lista original (lista) con los elementos<br>presentes en **otra lista**. También es posible usar<br>operadores aritméticos (+ o +=) para extender la lista. |\n",
        "| ```lista.index(elemento)``` | Busca el elemento en la lista y retorna el índice. En<br>caso de que el elemento no se encuentre en la lista <br>retorna un error de valor (ValueError).<br><br>*TIP*: Puede utilizarse el método ```in``` para revisar<br>si un elemento se encuentra en la lista sin que se<br>retorne un error en caso de no encontrarse. |\n",
        "| ```lista.remove(elemento)``` | Busca la primera instancia del elemento y lo **quita**<br>de la lista (retorna error de valor si no se encuentra<br>el elemento). |\n",
        "| ```lista.sort()``` | Ordena la lista \"en su lugar\". En algunos casos es<br>preferible utilizar la función ```sorted()``` en vez <br>de ordenar las listas en su lugar. |\n",
        "| ```lista.reverse()``` | Invierte la lista \"en su lugar\" (no retorna una copia<br>de la lista) |\n",
        "| ```lista.pop(indice)``` | Remueve y retorna el elemento eliminado en el índice<br>especificado. Retorna el elemento más a la derecha de<br>la lista si se omite el índice |\n",
        "\n",
        "* Para el siguiente ejemplo se crea una lista utilizando la función ```range()```, la cual toma como argumentos un entero donde inicia el rango y un entero donde finaliza.\n",
        "```python\n",
        "range(comienzo, termino, *step)\n",
        "```\n",
        "Opcionalmente se puede agregar como argumento un entero que indique el paso al cual aumenta el conteo."
      ]
    },
    {
      "cell_type": "code",
      "metadata": {
        "tags": [],
        "id": "EVpc4DEh7ZyM"
      },
      "source": [
        "# En este caso, la lista serán números del 1 al 10\n",
        "lista_uno = [numero for numero in range(1, 11)]\n",
        "print('La lista uno es:', lista_uno, '\\n')\n",
        "\n",
        "# De las lista se puede obtener la cantidad de elementos utilizando len(lista a consultar)\n",
        "largo_lista_uno = len(lista_uno)\n",
        "print('La lista uno tiene', largo_lista_uno, 'elementos', '\\n')\n",
        "\n",
        "# Se puede acceder a un dato de la lista utilizando brackets después del nombre de la lista y\n",
        "# poniendo el índice del elemento a extraer (recordar el desfase que existe!)\n",
        "quinto_elemento = lista_uno[4]\n",
        "print('El quinto elemento de la lista es:', quinto_elemento, '\\n')\n",
        "\n",
        "# Puedo modificar los elementos que ya están en la lista asignandoles un valor como si fuesen variables\n",
        "lista_uno[4] = 100\n",
        "quinto_elemento = lista_uno[4]\n",
        "print('La lista uno modificada es:', lista_uno)\n",
        "print('El quinto elemento de la lista modificada es:', quinto_elemento, '\\n')\n",
        "\n",
        "# Se puede verificar si se encuentra un determinado valor o elemento en la lista con 'in'\n",
        "valor = 5\n",
        "esta_el_valor = 5 in lista_uno\n",
        "print('¿Esta el valor', valor, 'en la lista?:', esta_el_valor, '\\n')\n",
        "\n",
        "# Se les puede agregar elementos al final utilizando lista.append()\n",
        "agregar = 50\n",
        "lista_uno.append(agregar)\n",
        "print('Se le agrega un valor al final:', lista_uno, '\\n')\n",
        "\n",
        "# También es posible agregar elementos en un índice determinado se utiliza lista.insert()\n",
        "indice = 4\n",
        "lista_uno.insert(indice, 5)\n",
        "print('Nuevamente cambia la lista:', lista_uno)\n",
        "print('Ahora el quinto elemento es:', lista_uno[4])\n",
        "print('Y el número de elementos es:', len(lista_uno), '\\n')\n",
        "\n",
        "# Para eliminar elementos se utiliza lista.remove()\n",
        "lista_uno.remove(5)\n",
        "print('Fue un error incorporar el valor, se ha eliminado, la lista queda así:', lista_uno, '\\n')"
      ],
      "execution_count": null,
      "outputs": []
    },
    {
      "cell_type": "markdown",
      "metadata": {
        "id": "9uViLzH97ZyP"
      },
      "source": [
        "### 3.6 Indentación del código <a name=\"subpunto3_6\"></a>"
      ]
    },
    {
      "cell_type": "markdown",
      "metadata": {
        "id": "djrupDuD7ZyQ"
      },
      "source": [
        "Antes de comenzar la siguiente sección, es importante destacar que en python es muy común el uso de bucles, funciones, y expresiones condicionles. El código escrito que se quiera ejecutar al cumplirse cierta condición, el código que ejecute una función determinada o el código que ejecute un bucle debe estar **anidado o _indentado_** dentro de la condición, la función o el bucle, y para lograr esto se utiliza la ***indentación***, utilizando la tecla ```tab``` o utilizando **4 espacios** (esta última forma de indentación es la aceptada según el estándar *PEP8*)."
      ]
    },
    {
      "cell_type": "code",
      "metadata": {
        "scrolled": true,
        "tags": [],
        "id": "7SVqgLMS7ZyQ"
      },
      "source": [
        "print('''\n",
        "Este texto comienza desde el extremo izquierdo\n",
        "    pero ahora está indentado, lo que significa\n",
        "    que el texto se movió 4 espacios hacia la derecha.\n",
        "\n",
        "Se puede realizar una indentación cuantas veces se estime necesario,\n",
        "    sin embargo\n",
        "        se debe tener en cuenta\n",
        "            que al llegar al final del código indentado\n",
        "        se ejecutará el código a nivel de la indentación anterior\n",
        "    y así continuará cambiando de indentación\n",
        "hasta llegar al extremo izquierdo nuevamente.\n",
        "''')"
      ],
      "execution_count": null,
      "outputs": []
    },
    {
      "cell_type": "markdown",
      "metadata": {
        "id": "2pGbxYOl7ZyT"
      },
      "source": [
        "## 4. Expresiones condicionales, bucles y funciones <a name=\"punto4\"></a>"
      ]
    },
    {
      "cell_type": "markdown",
      "metadata": {
        "id": "qZfmkJ_y7ZyU"
      },
      "source": [
        "### 4.1 Condicionales ```if```, ```elif``` y ```else``` <a name=\"subpunto4_1\"></a>"
      ]
    },
    {
      "cell_type": "markdown",
      "metadata": {
        "id": "7W-CIkLk7ZyU"
      },
      "source": [
        "Ahora comenzamos con un ejemplo de condiciones que se pueden utilizar en un programa. Análogamente a lo que sucede en las vías bioquímicas, en las cuales se pueden tomar distintos caminos dependiendo de las condiciones celulares, ambientales, etc., en programación se pueden imponer ciertas condiciones al programa, el cual ejecutará diferentes partes de código dependiendo de lo que se cumpla o no."
      ]
    },
    {
      "cell_type": "code",
      "metadata": {
        "scrolled": true,
        "tags": [],
        "id": "DXc9dStF7ZyV"
      },
      "source": [
        "condicion_uno = True\n",
        "condicion_dos = True\n",
        "\n",
        "# Para poner a prueba condiciones se utiliza if:\n",
        "# El código que vaya a ser ejecutado en caso de cumplirse la condición debe estar indentado!\n",
        "if condicion_uno:\n",
        "    print('La primera condición se cumple', '\\n')\n",
        "if not condicion_uno:\n",
        "    print('La primera condición no se cumple', '\\n')\n",
        "\n",
        "# En caso de querer ejecutar cierto código cuando NO se cumpla la condición se utiliza else:\n",
        "if condicion_dos:\n",
        "    print('La segunda condición se cumple', '\\n')\n",
        "else:\n",
        "    print('La segunda condición no se cumple', '\\n')\n",
        "\n",
        "# También es posible combinar expresiones booleanas en una expresión condicional\n",
        "# Y además evaluar varias condiciones\n",
        "if condicion_uno and condicion_dos:\n",
        "    print('Se cumplen ambas condiciones', '\\n')\n",
        "elif condicion_uno or condicion_dos:\n",
        "    print('Se cumple una de las condiciones', '\\n')\n",
        "else:\n",
        "    print('Ninguna de las condiciones se cumple', '\\n')\n",
        "\n",
        "# Es posible anidar condiciones dentro de condiciones\n",
        "condicion_tres = True\n",
        "\n",
        "if condicion_uno:\n",
        "    print('Se cumple la condición para ejecutar el primer bloque')\n",
        "    if condicion_dos:\n",
        "        print('Se cumple la primera condición y la segunda condición', '\\n')\n",
        "    elif condicion_tres:\n",
        "        print('Se cumple la primera condición y la tercera condición', '\\n')\n",
        "elif condicion_dos:\n",
        "    print('Se cumple la condición para ejecutar el segundo bloque')\n",
        "    if condicion_uno:\n",
        "        print('Se cumple la segunda condición y la primera condición', '\\n')\n",
        "    elif condicion_tres:\n",
        "        print('Se cumple la segunda condición y la tercera condición', '\\n')"
      ],
      "execution_count": null,
      "outputs": []
    },
    {
      "cell_type": "markdown",
      "metadata": {
        "id": "sEpoZqiZ7ZyY"
      },
      "source": [
        "Es posible anidar tantas condiciones como se quiera, sin embargo hay que tener en cuenta que la ***primera condición que se cumpla será la que se ejecute y no se ejecutarán las demás***."
      ]
    },
    {
      "cell_type": "markdown",
      "metadata": {
        "id": "RqQH4IBW7ZyY"
      },
      "source": [
        "### 4.2 Bucles ```while``` y  ```for``` <a name=\"subpunto4_2\"></a>"
      ]
    },
    {
      "cell_type": "markdown",
      "metadata": {
        "id": "XuBgGs6z7ZyZ"
      },
      "source": [
        "El añadir condiciones con ```if```, ```elif``` y ```else``` es útil al evaluar una o más expresiones *una sola vez*. Sin embargo, hay situaciones en las cuales se deben realizar operaciones o revisar condiciones más de una vez, generalmente hasta que se cumpla una cierta condición. Para esto se utilizan los bucles ```while``` y ```for```."
      ]
    },
    {
      "cell_type": "markdown",
      "metadata": {
        "id": "uhxEiVoZ7ZyZ"
      },
      "source": [
        "El mecanismo para realizar bucles más simple es ```while```. Como el nombre lo indica, al dar una condición que el programa evalúa a ```True``` o ```False```, todo lo que se encuentre dentro del bucle se ejecutará **mientras se cumpla la condición**."
      ]
    },
    {
      "cell_type": "code",
      "metadata": {
        "scrolled": true,
        "tags": [],
        "id": "YUVjYBIn7Zya"
      },
      "source": [
        "contador = 1\n",
        "while contador <= 5:\n",
        "    print('El contador va en', contador)\n",
        "    contador += 1"
      ],
      "execution_count": null,
      "outputs": []
    },
    {
      "cell_type": "markdown",
      "metadata": {
        "id": "PWq8MWfI7Zyd"
      },
      "source": [
        "En el ejemplo de arriba, se declara una variable que se llama ```contador```, la cual llevará una cuenta de las repeticiones del bucle. Luego se declara el bucle, poniendo como condición que el bucle se ejecutará solamente mientras el contador sea menor o igual que 5. Dentro del bucle, se imprime el número en el que va el contador, y *se le suma 1 al contador*. Debido a que con cada iteración el contador va a incrementar en 1, luego de 5 iteraciones *se termina el bucle*."
      ]
    },
    {
      "cell_type": "markdown",
      "metadata": {
        "id": "HLzyRTIV7Zyd"
      },
      "source": [
        "Pueden existir situaciones en las cuales no se sepa cuándo se cumplirá o no cierta condición, y cuando esto ocurra, se pueden utilizar los ***bucles infinitos*** siempre y cuando se declare un quiebre en el bucle con ```break```. Para el siguiente ejemplo se leerá input desde el usuario al programa con la función integrada ```input()``` y se capitalizará la primera letra. Para salir de este bucle, se utilizará la letra q."
      ]
    },
    {
      "cell_type": "code",
      "metadata": {
        "scrolled": true,
        "id": "9RIZxC5F7Zye"
      },
      "source": [
        "while True:\n",
        "    palabras = str(input('Palabra a capitalizar (escriba q para salir): \\n'))\n",
        "    if palabras == 'q':\n",
        "        break\n",
        "    else:\n",
        "        print(palabras.capitalize())"
      ],
      "execution_count": null,
      "outputs": []
    },
    {
      "cell_type": "markdown",
      "metadata": {
        "id": "t9RhtmQd7Zyh"
      },
      "source": [
        "La mayoría de los programas escritos en python ocupan este tipo de *iteradores*, ya que permiten (valga la redundancia) iterar sobre estructuras de datos sin la necesidad de saber qué tan grandes son o cómo se encuentran implementadas en el programa. Otro uso de los iteradores es *procesar datos que se crean con cada iteración*, disminuyendo así el uso de la memoria del computador.\n",
        "\n",
        "A continuación se mostrará cómo se itera con ```for ```a través de una variable ```string```, sin embargo, tanto ```while``` como ```for``` permiten la iteración sobre otros tipos de datos, como listas, tuples o diccionarios."
      ]
    },
    {
      "cell_type": "code",
      "metadata": {
        "scrolled": true,
        "tags": [],
        "id": "NT-zbAT47Zyi"
      },
      "source": [
        "palabra = 'genetica'\n",
        "for letra in palabra:\n",
        "    '''\n",
        "    El uso de 'in' permite al programa buscar dentro de la estructura de datos o de la variable\n",
        "    '''\n",
        "    print(letra)"
      ],
      "execution_count": null,
      "outputs": []
    },
    {
      "cell_type": "code",
      "metadata": {
        "scrolled": true,
        "tags": [],
        "id": "v9dfMTRX7Zyl"
      },
      "source": [
        "lista_letras = ['g', 'e', 'n', 'e', 't', 'i', 'c', 'a']\n",
        "\n",
        "# Otro uso del bucle for\n",
        "lista_letras_2 = [letra for letra in palabra]\n",
        "\n",
        "print('¿Son iguales las dos listas?', lista_letras == lista_letras_2, '\\n')\n",
        "\n",
        "# Se pueden asignar funciones que se aplican a cada elemento\n",
        "lista_letras_2 = [letra.capitalize() for letra in palabra]\n",
        "\n",
        "print('¿Y ahora?', lista_letras == lista_letras_2, '\\n')\n",
        "\n",
        "# Para salir de un bucle 'for' es necesario introducir un quiebre utilizando 'break'\n",
        "print('En caso de que quiera imprimir las tres primeras letras debo introducir un quiebre')\n",
        "for letra in lista_letras:\n",
        "    if letra == 'n':\n",
        "        print(letra)\n",
        "        break\n",
        "    else:\n",
        "        print(letra)\n",
        "print('\\n')\n",
        "        \n",
        "# Para continuar con la ejecución del bucle e ignorar cierta condición se utiliza 'continue'\n",
        "for letra in lista_letras:\n",
        "    if letra != 'a':\n",
        "        continue\n",
        "        print('Esta línea no se ejecuta!')\n",
        "    else:\n",
        "        print('''Se encontró la letra 'a' ''')\n",
        "print('\\n')\n",
        "        \n",
        "# Existen casos en los cuales es necesario obtener el índice de los elementos\n",
        "for indice, valor in enumerate(lista_letras):\n",
        "    print('El elemento que se encuentra en el índice {} es {}'.format(indice, valor))\n",
        "print('\\n')\n",
        "\n",
        "# Una de las formas más utiles de utilizar los bucles 'for' es acoplándolos a un rango de valores utilizando\n",
        "# range()\n",
        "\n",
        "for numero in range(0, 5):\n",
        "    print('Número:', numero)\n",
        "print('\\n')\n",
        "for numero in range(2):\n",
        "    print('Número:', numero)\n",
        "print('\\n')\n",
        "for numero in range(0, 10, 2):\n",
        "    print('Número:', numero)"
      ],
      "execution_count": null,
      "outputs": []
    },
    {
      "cell_type": "markdown",
      "metadata": {
        "id": "k5dNKIat7Zyx"
      },
      "source": [
        "### 4.3 Funciones <a name=\"subpunto4_3\"></a>"
      ]
    },
    {
      "cell_type": "markdown",
      "metadata": {
        "id": "M2KWtWcz7Zyx"
      },
      "source": [
        "Hasta ahora, todo el código escrito ha sido escrito en fragmentos. Estos fragmentos son útiles para llevar a cabo tareas pequeñas, pero si son tareas que se deben llevar a cabo varias veces en el programa se volverá tedioso escribir nuevamente el mismo código. El primer paso para la reutilización de código es construir una **función**, la cual es *una sección de código con nombre, separada del resto*. Una función puede tomar **argumentos** como input y retorna otros **resultados**.\n",
        "\n",
        "Es necesario llevar a cabo 2 pasos principales para construir una función:\n",
        "* *Definir* la función, con 0 o más parámetros.\n",
        "* *Llamar* la función, que retornará 0 o más resultados\n",
        "\n",
        "```python\n",
        "def miFuncion(arg1, arg2, arg3):\n",
        "\n",
        "    resultado = arg1 + arg2 + arg3\n",
        "\n",
        "    return resultado\n",
        "```\n",
        "\n",
        "A continuación veremos ejemplos de uso de funciones"
      ]
    },
    {
      "cell_type": "code",
      "metadata": {
        "scrolled": true,
        "tags": [],
        "id": "d9UFrreb7Zy2"
      },
      "source": [
        "# Para definir una función es necesario anteponer def al nombre que se le asignará a la función\n",
        "def saludo(nombre1, nombre2):\n",
        "    \n",
        "    '''\n",
        "    La función saludo imprime en pantalla un saludo al nombre1 y nombre2\n",
        "    \n",
        "    Argumentos:\n",
        "        nombre1: Nombre en formato string\n",
        "        nombre2: Nombre en formato string\n",
        "        \n",
        "    Retorna:\n",
        "        Saludo en formato string\n",
        "    '''\n",
        "    \n",
        "    x = 10\n",
        "    print('Hola {} y {}'.format(nombre1, nombre2))\n",
        "\n",
        "    return None\n",
        "    \n",
        "# Para ejecutar la función es necesario escribir el nombre de la función y llenar los argumentos necesarios\n",
        "saludo('Fernan', 'Valentina')"
      ],
      "execution_count": null,
      "outputs": []
    },
    {
      "cell_type": "code",
      "metadata": {
        "id": "FgpQa2dwXt67"
      },
      "source": [
        "x"
      ],
      "execution_count": null,
      "outputs": []
    },
    {
      "cell_type": "markdown",
      "metadata": {
        "id": "LByuzMyn7Zy5"
      },
      "source": [
        "Hay que tener varias consideraciones al definir funciones propias, algunas de las cuales se detallan en la siguiente lista:\n",
        "- Al definir una función, todo lo que se quiera ejecutar dentro de la función debe estar **indentado**.\n",
        "- Los parámetros de una función pueden ser *obligatorios* u *opcionales*.\n",
        "- Dentro de la función es posible:\n",
        "    * Definir variables (solamente se podran utilizar dentro de la misma función*).\n",
        "    * Aplicares ```while``` y/o ```for``` (cuidando definir claramente las condiciones de término o de quiebre del bucle).\n",
        "    * Llamar otras funciones.\n",
        "- La función termina de ejecutarse cuando:\n",
        "    * Se termina de ejecutar todo el código dentro de ella\n",
        "    * Se encuentra con la declaración de retorno (```return```). Al encontrar una declaración de retorno la función retorna lo declarado y no ejecuta más código (aunque hayan miles de líneas más).\n",
        "- En muchas situaciones es necesario crear varias funciones, sin tener claridad en lo que se ejecutará en cada una de ellas. Para estos casos es de utilidad la palabra ```pass``` para que indicar una función (o bucle) vacía.\n",
        "\n",
        "*No siempre pero no se profundizará en esto"
      ]
    },
    {
      "cell_type": "code",
      "metadata": {
        "id": "N0GiFBjeYJUA"
      },
      "source": [
        "def mifuncion1():\n",
        "\n",
        "  pass\n",
        "\n"
      ],
      "execution_count": null,
      "outputs": []
    },
    {
      "cell_type": "code",
      "metadata": {
        "id": "gp2RWs3hYOFg"
      },
      "source": [
        "mifuncion1()"
      ],
      "execution_count": null,
      "outputs": []
    },
    {
      "cell_type": "code",
      "metadata": {
        "tags": [],
        "id": "_pXnVlKd7Zy5"
      },
      "source": [
        "# Un ejemplo de una función que ejecuta otra función\n",
        "def ejecutar_saludo(funcion):\n",
        "    \n",
        "    '''\n",
        "    Esta función ejecuta la función saludo definida anteriormente\n",
        "    '''\n",
        "    \n",
        "    funcion('Fernan', 'Valentina')\n",
        "    \n",
        "ejecutar_saludo(saludo)"
      ],
      "execution_count": null,
      "outputs": []
    },
    {
      "cell_type": "markdown",
      "metadata": {
        "id": "CisAWKvk7ZzG"
      },
      "source": [
        "## 5. Trabajando con datos y gráficos <a name=\"punto5\"></a>"
      ]
    },
    {
      "cell_type": "markdown",
      "metadata": {
        "id": "VWnroEYr7ZzH"
      },
      "source": [
        "### 5.1 Pandas <a name=\"subpunto5_1\"></a>"
      ]
    },
    {
      "cell_type": "markdown",
      "metadata": {
        "id": "qU0um1Ya7ZzH"
      },
      "source": [
        "Pandas es un módulo de Python utilizado para el manejo y análisis de datos. Es especialmente util para el manejo de datos reales obtenidos a través de planillas Excel y/o bases de datos (por ejemplo de SQL). Pandas podría considerarse como un editor de bases de datos, capaz de manejar diferentes tipos y grupos de datos. \n",
        "\n",
        "Al importar o crear un grupo de datos, pandas crea una *estructura de datos* denominada **```DataFrame```**, la cual es una ***colección ordenada de columnas con nombres y tipos de datos*** . El propósito final es simplificar el manejo de datos que se encuentran en el ámbito cientifico y financiero, ya que pandas fue originalmente diseñado para trabajar con datos financieros (para lo cual hoy en día se utiliza mayoritariamente Excel)."
      ]
    },
    {
      "cell_type": "markdown",
      "metadata": {
        "id": "xjj771Gn7ZzI"
      },
      "source": [
        "A continuación se ejemplifica la importación de una serie de datos desde un archivo ```.xlsx``` (Excel) y desde un archivo ```.csv``` (valores separados por comas) a una estructura de datos de Pandas. Además, se muestra qué atributos se le asignan a esta estructura y cómo se acceden a los datos guardados en ella."
      ]
    },
    {
      "cell_type": "markdown",
      "metadata": {
        "id": "vSjWBK3HCVg6"
      },
      "source": [
        "***Importante***\n",
        "> Al ejecutar la celda debajo se mostrará un link, este le solicitará acceso a su Google Drive, esto es para acceder a los archivos que contienen datos de prueba. Al aceptar el acceso se le mostrará un código único, el cual debe copiar y pegar en la misma celda inferior."
      ]
    },
    {
      "cell_type": "code",
      "metadata": {
        "id": "33F13a8n7ZzI"
      },
      "source": [
        "import pandas as pd\n",
        "\n",
        "archivo_csv = pd.read_csv('https://raw.githubusercontent.com/AlejoArav/BIO266E/master/data/datos_de_prueba.csv', delimiter=';')\n",
        "archivo_excel = pd.read_excel('https://github.com/AlejoArav/BIO266E/blob/master/data/datos_de_prueba.xlsx?raw=true')"
      ],
      "execution_count": null,
      "outputs": []
    },
    {
      "cell_type": "code",
      "metadata": {
        "id": "tEOoRk-J7ZzL"
      },
      "source": [
        "def atributos_datos(datos):\n",
        "    \n",
        "    '''\n",
        "    Función que retorna algunas de las propiedades que se le asignan a una tabla importada con pandas\n",
        "    \n",
        "    Argumentos:\n",
        "        datos: variable de tipo DataFrame, resultado de importación de datos mediante pandas\n",
        "    \n",
        "    Retorna:\n",
        "        NoneType. La función solamente imprime en pantalla algunos de los atributos.\n",
        "    '''\n",
        "    \n",
        "    # Rango de datos; cuántos datos hay\n",
        "    print('Se retorna un objeto de tipo range, es decir, \\\n",
        "se puede realizar un bucle utilizando datos.index en lugar de range()')\n",
        "    print(datos.index)\n",
        "    print('\\n')\n",
        "    \n",
        "    # Nombres de columnas (si es que las hay)\n",
        "    #print(datos.columns)\n",
        "    print('Se retorna un objeto que muestra los nombres de cada columna y el tipo de datos \\\n",
        "que tiene cada una')\n",
        "    print(datos.dtypes)\n",
        "    print('\\n')\n",
        "    \n",
        "    # Arreglo de datos\n",
        "    print('Se retorna un objecto de tipo arreglo, el cual contiene todos los datos')\n",
        "    print(datos.values)\n",
        "    print('\\n')\n",
        "    \n",
        "    # Arreglo de datos especificos\n",
        "    print('Se retorna un objeto DataFrame solamente con las columnas que coincidan\\\n",
        "con el tipo de datos (en este caso datos de tipo float64)')\n",
        "    print(datos.select_dtypes('float64'))\n",
        "    print('\\n')\n",
        "    \n",
        "    # O si es necesario, se pueden obtener los datos por columnas con get\n",
        "    print('En este caso se retorna un objeto DataFrame con los datos pertenecientes \\\n",
        "a la columna numero 3')\n",
        "    # Recordar que se debe indicar el número a acceder con un offset de uno!\n",
        "    print(datos.get('Columna2'))\n",
        "    print('\\n')"
      ],
      "execution_count": null,
      "outputs": []
    },
    {
      "cell_type": "code",
      "metadata": {
        "tags": [],
        "id": "WNfI1U037ZzO"
      },
      "source": [
        "atributos_datos(archivo_excel)"
      ],
      "execution_count": null,
      "outputs": []
    },
    {
      "cell_type": "markdown",
      "metadata": {
        "id": "KxaTmR0ogox3"
      },
      "source": [
        "También es posible visualizar los datos como una tabla directamente en este cuadernillo, para lo cual se utiliza una extensión de Google Colab y se escribe el nombre del ```DataFrame```que contiene nuestros datos."
      ]
    },
    {
      "cell_type": "code",
      "metadata": {
        "id": "HOEwHza6gToY"
      },
      "source": [
        "%load_ext google.colab.data_table\n",
        "\n",
        "archivo_csv"
      ],
      "execution_count": null,
      "outputs": []
    },
    {
      "cell_type": "markdown",
      "metadata": {
        "id": "shNHujS97ZzS"
      },
      "source": [
        "### 5.2 Numpy <a name=\"subpunto5_2\"></a>"
      ]
    },
    {
      "cell_type": "markdown",
      "metadata": {
        "id": "T0yLBJQk7ZzS"
      },
      "source": [
        "Numpy es quizás la razón por la cual Python es popular entre científicos. Como se explicó al principio de este cuadernillo, los programas escritos en python pueden demorar más tiempo en ejecutarse que un programa escrito en C o Java. El módulo de Numpy fue escrito con la finalidad de obtener la velocidad de C en Python para el manejo de datos en arreglos numéricos multidimensionales.\n",
        "\n",
        "La estructura base de Numpy es un arreglo multidimensional (```ndarray```), y una de sus particularidades es que cada elemento del arreglo **debe ser del mismo tipo de dato** (los arreglos hechos manualmente a partir de listas no deben cumplir esta condición).\n",
        "\n",
        "Un ejemplo de uso de arreglos multidimensionales es el procesamiento de imágenes hecho en Python. Cada imagen tiene datos ordenados en pixeles, y cada pixel tiene valores específicos de tonalidades rojas, verdes y azules (para una imagen RGB). Al cargar una imagen en Python, lo que se hace es *convertir los datos a un arreglo tri-dimensional*, y el arreglo resultante sería análogo a un cubo Rubik.\n",
        "\n",
        "Algunas de las razones por las cuales se utilizan estos arreglos se detallan a coninuación:\n",
        "- Los datos científicos generalmente consisten de largas secuencias de datos.\n",
        "- Los cálculos científicos que se realizan con estos datos generalmente incluyen operaciones matriciales, ajustes lineales y no lineales, simulaciones matemáticas, y otras técnicas que requieren una estructura de datos determinada.\n",
        "- **Numpy maneja los datos de sus arreglos con mayor velocidad que las listas de python**."
      ]
    },
    {
      "cell_type": "code",
      "metadata": {
        "id": "4GcvYcoS7ZzT"
      },
      "source": [
        "import numpy as np"
      ],
      "execution_count": null,
      "outputs": []
    },
    {
      "cell_type": "code",
      "metadata": {
        "scrolled": true,
        "tags": [],
        "id": "DrgBnUhw7ZzV"
      },
      "source": [
        "# Para hacer un arreglo con Numpy\n",
        "arreglo_1 = np.array(([1, 3, 5, 8, 13], [1, 2]))\n",
        "print('Este es un arreglo Numpy (no se ve muy distinto a una lista de python):', arreglo_1, '\\n')\n",
        "\n",
        "# A continuación se encuentran algunos atributos de los arreglos Numpy\n",
        "print('Al igual que la estructura de Pandas, los arreglos Numpy poseen ciertos atributos como:')\n",
        "print('\\nUn número de dimensiones:', arreglo_1.ndim)\n",
        "print('Un número total de valores', arreglo_1.size)\n",
        "print('''Una 'forma' (en arreglos de mayores dimensiones se visualiza mejor):''', arreglo_1.shape)\n",
        "\n",
        "# Tiene cierta similitud con las listas\n",
        "print('\\nAl igual que en listas, es posible extraer un rango de elementos o un elemento en\\\n",
        "específico utilizando índices:\\n', 'El quinto elemento es {}'.format(arreglo_1[0][4]))"
      ],
      "execution_count": null,
      "outputs": []
    },
    {
      "cell_type": "code",
      "metadata": {
        "id": "ll5xfj8gdXkg"
      },
      "source": [
        "arreglo_2 = np.array([1,2,3])\n",
        "\n",
        "np.add(np.exp(arreglo_2), 5)"
      ],
      "execution_count": null,
      "outputs": []
    },
    {
      "cell_type": "markdown",
      "metadata": {
        "id": "b9qlFq2-7ZzY"
      },
      "source": [
        "### 5.3 Matplotlib <a name=\"subpunto5_3\"></a>"
      ]
    },
    {
      "cell_type": "markdown",
      "metadata": {
        "id": "P5121uMr7ZzZ"
      },
      "source": [
        "Matplotlib es un módulo de python orientado a la visualización de datos. Se basa en Numpy y se ha expandido para integrarse con otros módulos de utilidad, como SciPy (un paquete orientado a ciencia) o Scikit Learn (un paquete orientado o machine-learning). Una de sus características más importantes y útiles es la verastilidad que tiene, ya que funciona en la mayoría de los sistemas operativos y se adapta a distintos motores gráficos. \n",
        "\n",
        "En los últimos años ha dejado de ser utilizado de forma masiva y se han masificado herramientas de otros lenguajes, como ```ggplot``` y ```ggvis``` de R. También ha servido de base para otros módulos de visualización de datos de python, como Seaborn, ggpy, HoloViews y Altair. Sin embargo, el entender la sintaxis de matplotlib permite que le usuarie pueda ajustar un gráfico hasta quedar completamente conforme.\n",
        "\n",
        "Para utilizar este paquete, al igual que los anteriores, es necesario importarlo. Para esto se utiliza el comando ```import``` y se utilizará la abreviación ```plt``` para trabajar con el paquete. Además, Jupyter nos permite la visualización de gráficos *en línea*, es decir, junto a las líneas de código escritas. Para esto se debe utilizar el comando mágico ```%matplotlib inline``` luego de importar el módulo."
      ]
    },
    {
      "cell_type": "code",
      "metadata": {
        "id": "NxKL-yoT7Zza"
      },
      "source": [
        "import matplotlib.pyplot as plt\n",
        "%matplotlib inline"
      ],
      "execution_count": null,
      "outputs": []
    },
    {
      "cell_type": "markdown",
      "metadata": {
        "id": "_aC3uogV7Zzd"
      },
      "source": [
        "Luego de esta celda, cualquier gráfico que se construya utilizando el comando ```plt``` se graficará en la celda de resultados. Ahora se puede graficar, por ejemplo, los datos que fueron importados anteriormente con pandas. Para esto, se transformaran los datos a arreglos de numpy utilizando la propiedad ```.get('nombre_columna').values``` lo cual en primer lugar **busca** los datos de la columna solicitada, y luego **transforma** estos datos a un arreglo de Numpy. Con los datos de la columna 2 (valores eje X) y la columna 3 (valores eje Y) se construirá el gráfico."
      ]
    },
    {
      "cell_type": "code",
      "metadata": {
        "id": "lvtZOWQA7Zzd"
      },
      "source": [
        "# para codigo extra\n",
        "# Obtenemos los arreglos que vamos a utilizar\n",
        "valores_x = archivo_excel.get('Columna1').values\n",
        "valores_y = archivo_excel.get('Columna2').values\n",
        "\n",
        "plt.figure(figsize=(10,5), dpi=100)     # Acá se declara la figura a utilizar; todo lo que se escriba abajo se referirá a esta figura.\n",
        "plt.title('Gráfico de datos Excel')     # Esta línea es para poner un título al gráfico.\n",
        "plt.xlabel('Valores en X')              # Acá se define un nombre para el eje X.\n",
        "plt.ylabel('Valores en Y')              # Y acá para el eje Y.\n",
        "plt.plot(valores_x, valores_y, c=\"r\")          # Con esta línea se grafican los datos en la figura."
      ],
      "execution_count": null,
      "outputs": []
    },
    {
      "cell_type": "markdown",
      "metadata": {
        "id": "LS0NQVki7Zzg"
      },
      "source": [
        "Para realizar gráficos simples es más conveniente y rápido utilizar la interface original (utilizando ```plt.algun_atributo```). Sin embargo, el problema surge cuando se añade más de un gráfico. A continuación se ilustra cómo añadir más de un gráfico a una misma figura."
      ]
    },
    {
      "cell_type": "code",
      "metadata": {
        "id": "ikQie3Bl7Zzh"
      },
      "source": [
        "# para código extra\n",
        "plt.figure(dpi=100)\n",
        "\n",
        "# Se crea el primer gráfico de la figura con subplot()\n",
        "plt.subplot(2, 1, 1)                # Importante destacar que subplot interpreta los números como: (filas, columnas, num_gráfico)\n",
        "plt.plot(valores_x, valores_y)      # Se utilizan los valores importados con pandas\n",
        "plt.title('A')                      # Se agrega un título al primer gráfico de la figura\n",
        "\n",
        "# Se crea el segundo gráfico y todo el código que utilice .plt se referirá a la segunda figura de aquí en adelante\n",
        "plt.subplot(2, 1, 2)\n",
        "plt.plot(valores_y, valores_x)      # Se invierten los ejes\n",
        "plt.title('B')                      # Se agrega un título al segundo gráfico de la figura\n",
        "\n",
        "plt.tight_layout()                  # Esta función acomoda los gráficos automaticamente dentro de la figura para "
      ],
      "execution_count": null,
      "outputs": []
    },
    {
      "cell_type": "markdown",
      "metadata": {
        "id": "L4-6JFst7Zzj"
      },
      "source": [
        "Para tener un mayor control sobre cuál figura se van a aplicar ciertos cambios, se puede utilizar la interfaz orientada a objetos de matplotlib. En vez de crear cada figura en un orden determinado, se construye un *objeto*, el cual contiene todos los gráficos que se utilizarán en la figura. Luego es posible interactuar y modificar estos gráficos identificando el índice de cada uno. \n",
        "\n",
        "A continuación se ilustra un ejemplo."
      ]
    },
    {
      "cell_type": "code",
      "metadata": {
        "tags": [],
        "id": "23xHYvpM7Zzk"
      },
      "source": [
        "figura, ejes = plt.subplots(2, 1, figsize=(10,5))        # De manera similar al paso anterior, se declaran dos gráficos en la figura\n",
        "\n",
        "# Al imprmir 'ejes', debería retornar una lista con cada uno de los gráficos\n",
        "print(ejes)"
      ],
      "execution_count": null,
      "outputs": []
    },
    {
      "cell_type": "code",
      "metadata": {
        "id": "BEuC4dBs7Zzn"
      },
      "source": [
        "# Si cada uno de los objetos es un gráfico, para trabajar con mayor facilidad se puede hacer lo siguiente:\n",
        "\n",
        "grafico_uno = ejes[0]       # Se asigna el nombre grafico_uno al primer objeto de la lista (primer gráfico)\n",
        "grafico_dos = ejes[1]       # Se asigna el nombre grafico_uno al segundo objeto de la lista (segundo gráfico)"
      ],
      "execution_count": null,
      "outputs": []
    },
    {
      "cell_type": "code",
      "metadata": {
        "id": "yrzoEEAm7Zzp"
      },
      "source": [
        "grafico_uno.plot(valores_x, valores_y)       # Acá selecciono el primer gráfico, y grafico en el los valores de x e y\n",
        "\n",
        "# Para visualizar se llama a la figura\n",
        "figura"
      ],
      "execution_count": null,
      "outputs": []
    },
    {
      "cell_type": "code",
      "metadata": {
        "id": "qlQ0N3WO7Zzt"
      },
      "source": [
        "ejes[1].plot(valores_y, valores_x)            # Acá selecciono el segundo gráfico y grafico en el los valores de y e x\n",
        "\n",
        "# Finalmente, llamamos nuevamente a la figura para visualizar los gráficos\n",
        "figura"
      ],
      "execution_count": null,
      "outputs": []
    },
    {
      "cell_type": "markdown",
      "metadata": {
        "id": "sxFb0tjV7Zzv"
      },
      "source": [
        "## 6. Integración con Google Drive y exportación de cuadernillo a PDF <a name=\"punto6\"></a>"
      ]
    },
    {
      "cell_type": "markdown",
      "metadata": {
        "id": "QK9Bgvnrsqp_"
      },
      "source": [
        "### 6.1 Google Drive <a name=\"subpunto6_1\"></a>\n",
        "\n",
        "Google Colab ha desarrollado una manera de integrar estos cuadernillos con Google Drive, de manera que sea más fácil importar datos y exportar los resultados dentro de una misma plataforma. A continuación se ejecutarán algunas celdas que proporcionarán información acerca del uso de drive dentro de colab."
      ]
    },
    {
      "cell_type": "code",
      "metadata": {
        "id": "0k1lX_vQsxe3"
      },
      "source": [
        "# Esta celda conecta su google drive con este cuadernillo \n",
        "# utilizando claves únicas\n",
        "from google.colab import drive\n",
        "drive.mount('/content/drive')\n",
        "import os"
      ],
      "execution_count": null,
      "outputs": []
    },
    {
      "cell_type": "code",
      "metadata": {
        "id": "TlpKrZoWsqMx"
      },
      "source": [
        "# Podemos utilizar comandos de shell de Linux para ver los archivos que existen en nuestro Drive\n",
        "!ls"
      ],
      "execution_count": null,
      "outputs": []
    },
    {
      "cell_type": "code",
      "metadata": {
        "id": "ozl6kpqMsp4w"
      },
      "source": [
        "# Este comando nos deja ver el directorio actual en el cual se esta trabajando\n",
        "os.getcwd()"
      ],
      "execution_count": null,
      "outputs": []
    },
    {
      "cell_type": "code",
      "metadata": {
        "id": "wb_ZMR93zez6"
      },
      "source": [
        "# Podemos cambiar de directorio utilizando el siguiente comando\n",
        "os.chdir('/content/drive/Shared drives')\n",
        "!ls"
      ],
      "execution_count": null,
      "outputs": []
    },
    {
      "cell_type": "code",
      "metadata": {
        "id": "B1MxfvtbzzyQ"
      },
      "source": [
        "# Finalmente podemos acceder a la carpeta donde se trabajará\n",
        "# Modificar la variable mi_carpeta con el nombre de su carpeta!\n",
        "\n",
        "ruta_anterior = '/content/drive/Shared drives/'\n",
        "mi_carpeta = 'GC_Cinética - Alejandro Aravena'\n",
        "\n",
        "ruta_completa = ruta_anterior + mi_carpeta\n",
        "\n",
        "# Se cambia al directorio donde se trabajará\n",
        "os.chdir(ruta_anterior+mi_carpeta)\n",
        "os.getcwd()"
      ],
      "execution_count": null,
      "outputs": []
    },
    {
      "cell_type": "markdown",
      "metadata": {
        "id": "xUIltoMb3sMv"
      },
      "source": [
        "### 6.2 Exportar a PDF <a name=\"subpunto6_2\"></a>"
      ]
    },
    {
      "cell_type": "markdown",
      "metadata": {
        "id": "BV-J9vZR7Zzw"
      },
      "source": [
        "En ocasiones, es de utilidad exportar el cuadernillo con el código y sus figuras en formato PDF. Para realizar esto, es necesario instalar ciertos módulos externos, los cuales se encargan de analizar el cuadernillo y convertir su contenido a LaTeX.\n",
        "\n",
        "A continuación se encuentran las celdas necesarias para exportar el cuadernillo en PDF (este PDF quedará guardado en el directorio actual)\n",
        "\n",
        "**Importante**: *Estas celdas (especialmente la primera) demoran aproximadamente 10-15 minutos en ejecutarse, esto debido a que deben descargar e instalar LaTeX en el entorno remoto. Por esto mismo se han puesto al final de este cuadernillo.*"
      ]
    },
    {
      "cell_type": "code",
      "metadata": {
        "id": "bAPxEet80b_O"
      },
      "source": [
        "%%capture out\n",
        "\n",
        "# Instala paquetes necesarios para renderizar LaTeX\n",
        "!apt-get install texlive-full\n",
        "!apt-get install pandoc\n",
        "!apt-get install texlive-xetex\n",
        "\n",
        "# Instala paquetes necesarios para convertir el cuadernillo a PDF\n",
        "!pip install metakernel\n",
        "!pip install jupyterlab\n",
        "!pip install jupyterlab_latex\n",
        "!pip install nbconvert"
      ],
      "execution_count": null,
      "outputs": []
    },
    {
      "cell_type": "code",
      "metadata": {
        "id": "5h3YTi7rwWf_"
      },
      "source": [
        "for root, dirs, files in os.walk(\"/content/drive/\"):\n",
        "    for file in files:\n",
        "        if (file.endswith(\".ipynb\")) and \"Introduccion_a_Python_BIO266E\" in file:\n",
        "             print(os.path.join(root, file))\n",
        "\n",
        "# De la lista que se desplegará abajo debe seleccionar el cuadernillo correspondiente.\n",
        "# Una manera de ver si su cuadernillo ha sido editado en la carpeta es directamente viendo la última edición\n",
        "# en la carpteta\n",
        "# Si apareciera otro cuadernillo de Introduccion a Python (por ejemplo, en la carpeta Colab Notebooks)\n",
        "# debe copiar esta ruta completa y utilizarla para generar el pdf (en la siguiente celda)"
      ],
      "execution_count": null,
      "outputs": []
    },
    {
      "cell_type": "code",
      "metadata": {
        "id": "iSJ7BqnU7saS"
      },
      "source": [
        "import nbconvert\n",
        "# Cambiar la ruta a su ruta específica!\n",
        "!jupyter nbconvert \"pegue su ruta acá\" --to pdf --output-dir '/content/drive/Shared drives/pegue el nombre de su carpeta acá'\n",
        "#!jupyter nbconvert \"/content/drive/My Drive/Colab Notebooks/Copia de Introduccion_a_Python_BIO266E.ipynb\" --to pdf --output-dir '/content/drive/Shared drives/GC_Cinética - Alejandro Aravena'"
      ],
      "execution_count": null,
      "outputs": []
    }
  ]
}
